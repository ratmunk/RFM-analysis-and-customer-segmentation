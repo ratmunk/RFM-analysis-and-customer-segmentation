{
 "cells": [
  {
   "cell_type": "code",
   "execution_count": 1,
   "id": "9220389f",
   "metadata": {},
   "outputs": [],
   "source": [
    "# 라이브러리 불러오기\n",
    "import pandas as pd\n",
    "import numpy as np\n",
    "from datetime import datetime, timedelta, time\n",
    "import matplotlib.pyplot as plt\n",
    "from matplotlib import rc, font_manager\n",
    "import seaborn as sns\n",
    "import plotly.express as px\n",
    "import plotly.graph_objs as go\n",
    "from plotly.subplots import make_subplots\n",
    "import warnings\n",
    "warnings.filterwarnings(\"ignore\")\n",
    "\n"
   ]
  },
  {
   "cell_type": "code",
   "execution_count": 2,
   "id": "4f5b0a0c",
   "metadata": {},
   "outputs": [],
   "source": [
    "import matplotlib.pyplot as plt\n",
    "from matplotlib import rc\n",
    "%matplotlib inline\n",
    "rc('font', family='Arial Unicode MS')\n"
   ]
  },
  {
   "cell_type": "code",
   "execution_count": 3,
   "id": "0f4ea9e4",
   "metadata": {},
   "outputs": [],
   "source": [
    "merge = pd.read_csv('./data/df_merged.csv')"
   ]
  },
  {
   "cell_type": "code",
   "execution_count": 4,
   "id": "94365419",
   "metadata": {},
   "outputs": [
    {
     "data": {
      "text/html": [
       "<div>\n",
       "<style scoped>\n",
       "    .dataframe tbody tr th:only-of-type {\n",
       "        vertical-align: middle;\n",
       "    }\n",
       "\n",
       "    .dataframe tbody tr th {\n",
       "        vertical-align: top;\n",
       "    }\n",
       "\n",
       "    .dataframe thead th {\n",
       "        text-align: right;\n",
       "    }\n",
       "</style>\n",
       "<table border=\"1\" class=\"dataframe\">\n",
       "  <thead>\n",
       "    <tr style=\"text-align: right;\">\n",
       "      <th></th>\n",
       "      <th>order_id</th>\n",
       "      <th>customer_id</th>\n",
       "      <th>order_status</th>\n",
       "      <th>order_purchase_timestamp</th>\n",
       "      <th>order_approved_at</th>\n",
       "      <th>order_delivered_carrier_date</th>\n",
       "      <th>order_delivered_customer_date</th>\n",
       "      <th>order_estimated_delivery_date</th>\n",
       "      <th>estimate_delivery_time_diff</th>\n",
       "      <th>delivery_time</th>\n",
       "      <th>...</th>\n",
       "      <th>customer_unique_id</th>\n",
       "      <th>customer_zip_code_prefix</th>\n",
       "      <th>customer_city</th>\n",
       "      <th>customer_state</th>\n",
       "      <th>customer_lat</th>\n",
       "      <th>customer_lng</th>\n",
       "      <th>payment_sequential</th>\n",
       "      <th>payment_type</th>\n",
       "      <th>payment_installments</th>\n",
       "      <th>payment_value</th>\n",
       "    </tr>\n",
       "  </thead>\n",
       "  <tbody>\n",
       "    <tr>\n",
       "      <th>0</th>\n",
       "      <td>e481f51cbdc54678b7cc49136f2d6af7</td>\n",
       "      <td>9ef432eb6251297304e76186b10a928d</td>\n",
       "      <td>delivered</td>\n",
       "      <td>2017-10-02 10:56:33</td>\n",
       "      <td>2017-10-02 11:07:15</td>\n",
       "      <td>2017-10-04 19:55:00</td>\n",
       "      <td>2017-10-10 21:25:13</td>\n",
       "      <td>2017-10-18</td>\n",
       "      <td>7 days 02:34:47</td>\n",
       "      <td>2 days 08:47:45</td>\n",
       "      <td>...</td>\n",
       "      <td>7c396fd4830fd04220f754e42b4e5bff</td>\n",
       "      <td>3149</td>\n",
       "      <td>sao paulo</td>\n",
       "      <td>SP</td>\n",
       "      <td>-23.574809</td>\n",
       "      <td>-46.587471</td>\n",
       "      <td>3</td>\n",
       "      <td>credit_card, voucher</td>\n",
       "      <td>1</td>\n",
       "      <td>38.71</td>\n",
       "    </tr>\n",
       "    <tr>\n",
       "      <th>1</th>\n",
       "      <td>70b35acffdf851e782ebf6fbc35eb620</td>\n",
       "      <td>8e8ee9b08afb49b080d193f98b0505af</td>\n",
       "      <td>delivered</td>\n",
       "      <td>2018-03-22 17:23:21</td>\n",
       "      <td>2018-03-22 18:05:36</td>\n",
       "      <td>2018-03-23 18:03:03</td>\n",
       "      <td>2018-03-25 17:22:41</td>\n",
       "      <td>2018-04-04</td>\n",
       "      <td>9 days 06:37:19</td>\n",
       "      <td>0 days 23:57:27</td>\n",
       "      <td>...</td>\n",
       "      <td>8a4002923e801e3120a11070fd31c9e2</td>\n",
       "      <td>3149</td>\n",
       "      <td>sao paulo</td>\n",
       "      <td>SP</td>\n",
       "      <td>-23.574809</td>\n",
       "      <td>-46.587471</td>\n",
       "      <td>1</td>\n",
       "      <td>credit_card</td>\n",
       "      <td>2</td>\n",
       "      <td>223.38</td>\n",
       "    </tr>\n",
       "    <tr>\n",
       "      <th>2</th>\n",
       "      <td>69923a4e07ce446644394df37a710286</td>\n",
       "      <td>31f31efcb333fcbad2b1371c8cf0fa84</td>\n",
       "      <td>delivered</td>\n",
       "      <td>2017-09-04 11:26:38</td>\n",
       "      <td>2017-09-04 11:43:25</td>\n",
       "      <td>2017-09-04 21:22:15</td>\n",
       "      <td>2017-09-05 19:20:20</td>\n",
       "      <td>2017-09-15</td>\n",
       "      <td>9 days 04:39:40</td>\n",
       "      <td>0 days 09:38:50</td>\n",
       "      <td>...</td>\n",
       "      <td>7c396fd4830fd04220f754e42b4e5bff</td>\n",
       "      <td>3149</td>\n",
       "      <td>sao paulo</td>\n",
       "      <td>SP</td>\n",
       "      <td>-23.574809</td>\n",
       "      <td>-46.587471</td>\n",
       "      <td>1</td>\n",
       "      <td>credit_card</td>\n",
       "      <td>1</td>\n",
       "      <td>44.11</td>\n",
       "    </tr>\n",
       "    <tr>\n",
       "      <th>3</th>\n",
       "      <td>128e10d95713541c87cd1a2e48201934</td>\n",
       "      <td>a20e8105f23924cd00833fd87daa0831</td>\n",
       "      <td>delivered</td>\n",
       "      <td>2017-08-15 18:29:31</td>\n",
       "      <td>2017-08-15 20:05:16</td>\n",
       "      <td>2017-08-17 15:28:33</td>\n",
       "      <td>2017-08-18 14:44:43</td>\n",
       "      <td>2017-08-28</td>\n",
       "      <td>9 days 09:15:17</td>\n",
       "      <td>1 days 19:23:17</td>\n",
       "      <td>...</td>\n",
       "      <td>3a51803cc0d012c3b5dc8b7528cb05f7</td>\n",
       "      <td>3366</td>\n",
       "      <td>sao paulo</td>\n",
       "      <td>SP</td>\n",
       "      <td>-23.565578</td>\n",
       "      <td>-46.534603</td>\n",
       "      <td>1</td>\n",
       "      <td>credit_card</td>\n",
       "      <td>3</td>\n",
       "      <td>37.77</td>\n",
       "    </tr>\n",
       "    <tr>\n",
       "      <th>4</th>\n",
       "      <td>ded23d37cdcc25b37b4473b7be770cb2</td>\n",
       "      <td>f96144f946e8e590fabf60a3a1e3342e</td>\n",
       "      <td>delivered</td>\n",
       "      <td>2018-07-26 18:25:40</td>\n",
       "      <td>2018-07-27 02:10:26</td>\n",
       "      <td>2018-08-02 14:13:00</td>\n",
       "      <td>2018-08-07 12:12:23</td>\n",
       "      <td>2018-08-20</td>\n",
       "      <td>12 days 11:47:37</td>\n",
       "      <td>6 days 12:02:34</td>\n",
       "      <td>...</td>\n",
       "      <td>806ab9e6d7c897da7e3b6104dadadc34</td>\n",
       "      <td>3366</td>\n",
       "      <td>sao paulo</td>\n",
       "      <td>SP</td>\n",
       "      <td>-23.565578</td>\n",
       "      <td>-46.534603</td>\n",
       "      <td>1</td>\n",
       "      <td>boleto</td>\n",
       "      <td>1</td>\n",
       "      <td>102.08</td>\n",
       "    </tr>\n",
       "    <tr>\n",
       "      <th>...</th>\n",
       "      <td>...</td>\n",
       "      <td>...</td>\n",
       "      <td>...</td>\n",
       "      <td>...</td>\n",
       "      <td>...</td>\n",
       "      <td>...</td>\n",
       "      <td>...</td>\n",
       "      <td>...</td>\n",
       "      <td>...</td>\n",
       "      <td>...</td>\n",
       "      <td>...</td>\n",
       "      <td>...</td>\n",
       "      <td>...</td>\n",
       "      <td>...</td>\n",
       "      <td>...</td>\n",
       "      <td>...</td>\n",
       "      <td>...</td>\n",
       "      <td>...</td>\n",
       "      <td>...</td>\n",
       "      <td>...</td>\n",
       "      <td>...</td>\n",
       "    </tr>\n",
       "    <tr>\n",
       "      <th>98171</th>\n",
       "      <td>fc703730f6206ec478cae91c89f7dcb3</td>\n",
       "      <td>d99700792f0811f23d94f2edb64634f8</td>\n",
       "      <td>delivered</td>\n",
       "      <td>2018-07-28 18:01:11</td>\n",
       "      <td>2018-07-28 18:15:14</td>\n",
       "      <td>2018-07-30 14:06:00</td>\n",
       "      <td>2018-08-06 16:41:43</td>\n",
       "      <td>2018-08-15</td>\n",
       "      <td>8 days 07:18:17</td>\n",
       "      <td>1 days 19:50:46</td>\n",
       "      <td>...</td>\n",
       "      <td>8b8c8f067a3faaf116211277147a88de</td>\n",
       "      <td>35494</td>\n",
       "      <td>desterro de entre rios</td>\n",
       "      <td>MG</td>\n",
       "      <td>-20.657355</td>\n",
       "      <td>-44.340017</td>\n",
       "      <td>1</td>\n",
       "      <td>credit_card</td>\n",
       "      <td>1</td>\n",
       "      <td>58.28</td>\n",
       "    </tr>\n",
       "    <tr>\n",
       "      <th>98172</th>\n",
       "      <td>f1a1942c32bd91ad8368164ae571b8f7</td>\n",
       "      <td>9632f1ff07591588a9596b99f8515c03</td>\n",
       "      <td>delivered</td>\n",
       "      <td>2018-04-16 20:51:56</td>\n",
       "      <td>2018-04-17 20:51:45</td>\n",
       "      <td>2018-04-19 19:54:43</td>\n",
       "      <td>2018-04-30 15:43:45</td>\n",
       "      <td>2018-05-16</td>\n",
       "      <td>15 days 08:16:15</td>\n",
       "      <td>1 days 23:02:58</td>\n",
       "      <td>...</td>\n",
       "      <td>1ef6a1d949703afd7a74347aed3b0503</td>\n",
       "      <td>77413</td>\n",
       "      <td>gurupi</td>\n",
       "      <td>TO</td>\n",
       "      <td>-11.743299</td>\n",
       "      <td>-49.048090</td>\n",
       "      <td>1</td>\n",
       "      <td>credit_card</td>\n",
       "      <td>3</td>\n",
       "      <td>59.03</td>\n",
       "    </tr>\n",
       "    <tr>\n",
       "      <th>98173</th>\n",
       "      <td>ff64e0ba4800eb1127ac32aeac2b51f9</td>\n",
       "      <td>16482587049b0c2a607dd532d0653696</td>\n",
       "      <td>delivered</td>\n",
       "      <td>2017-11-20 16:46:51</td>\n",
       "      <td>2017-11-20 16:56:23</td>\n",
       "      <td>2017-11-24 15:39:15</td>\n",
       "      <td>2017-12-05 00:57:57</td>\n",
       "      <td>2017-12-13</td>\n",
       "      <td>7 days 23:02:03</td>\n",
       "      <td>3 days 22:42:52</td>\n",
       "      <td>...</td>\n",
       "      <td>ebc6df639d125e446f07c0e9b1e47b90</td>\n",
       "      <td>32250</td>\n",
       "      <td>contagem</td>\n",
       "      <td>MG</td>\n",
       "      <td>-19.967817</td>\n",
       "      <td>-44.048033</td>\n",
       "      <td>1</td>\n",
       "      <td>credit_card</td>\n",
       "      <td>7</td>\n",
       "      <td>148.47</td>\n",
       "    </tr>\n",
       "    <tr>\n",
       "      <th>98174</th>\n",
       "      <td>ada8de3a9486cea2fce7f4b00319cf3c</td>\n",
       "      <td>9065a96b91a08c08755c4ea2618884f2</td>\n",
       "      <td>delivered</td>\n",
       "      <td>2018-07-09 18:25:16</td>\n",
       "      <td>2018-07-11 03:26:03</td>\n",
       "      <td>2018-07-11 12:12:00</td>\n",
       "      <td>2018-07-24 21:22:15</td>\n",
       "      <td>2018-08-06</td>\n",
       "      <td>12 days 02:37:45</td>\n",
       "      <td>0 days 08:45:57</td>\n",
       "      <td>...</td>\n",
       "      <td>ed81a42bec90c87578108d2e4c742d20</td>\n",
       "      <td>44798</td>\n",
       "      <td>umburanas</td>\n",
       "      <td>BA</td>\n",
       "      <td>-10.728517</td>\n",
       "      <td>-41.324377</td>\n",
       "      <td>1</td>\n",
       "      <td>boleto</td>\n",
       "      <td>1</td>\n",
       "      <td>123.75</td>\n",
       "    </tr>\n",
       "    <tr>\n",
       "      <th>98175</th>\n",
       "      <td>cfa78b997e329a5295b4ee6972c02979</td>\n",
       "      <td>a2f7428f0cafbc8e59f20e1444b67315</td>\n",
       "      <td>delivered</td>\n",
       "      <td>2017-12-20 09:52:41</td>\n",
       "      <td>2017-12-20 10:09:52</td>\n",
       "      <td>2017-12-20 20:25:25</td>\n",
       "      <td>2018-01-26 15:45:14</td>\n",
       "      <td>2018-01-18</td>\n",
       "      <td>-9 days +08:14:46</td>\n",
       "      <td>0 days 10:15:33</td>\n",
       "      <td>...</td>\n",
       "      <td>a49e8e11e850592fe685ae3c64b40eca</td>\n",
       "      <td>83870</td>\n",
       "      <td>campo do tenente</td>\n",
       "      <td>PR</td>\n",
       "      <td>-26.001234</td>\n",
       "      <td>-49.668993</td>\n",
       "      <td>1</td>\n",
       "      <td>credit_card</td>\n",
       "      <td>1</td>\n",
       "      <td>71.04</td>\n",
       "    </tr>\n",
       "  </tbody>\n",
       "</table>\n",
       "<p>98176 rows × 30 columns</p>\n",
       "</div>"
      ],
      "text/plain": [
       "                               order_id                       customer_id  \\\n",
       "0      e481f51cbdc54678b7cc49136f2d6af7  9ef432eb6251297304e76186b10a928d   \n",
       "1      70b35acffdf851e782ebf6fbc35eb620  8e8ee9b08afb49b080d193f98b0505af   \n",
       "2      69923a4e07ce446644394df37a710286  31f31efcb333fcbad2b1371c8cf0fa84   \n",
       "3      128e10d95713541c87cd1a2e48201934  a20e8105f23924cd00833fd87daa0831   \n",
       "4      ded23d37cdcc25b37b4473b7be770cb2  f96144f946e8e590fabf60a3a1e3342e   \n",
       "...                                 ...                               ...   \n",
       "98171  fc703730f6206ec478cae91c89f7dcb3  d99700792f0811f23d94f2edb64634f8   \n",
       "98172  f1a1942c32bd91ad8368164ae571b8f7  9632f1ff07591588a9596b99f8515c03   \n",
       "98173  ff64e0ba4800eb1127ac32aeac2b51f9  16482587049b0c2a607dd532d0653696   \n",
       "98174  ada8de3a9486cea2fce7f4b00319cf3c  9065a96b91a08c08755c4ea2618884f2   \n",
       "98175  cfa78b997e329a5295b4ee6972c02979  a2f7428f0cafbc8e59f20e1444b67315   \n",
       "\n",
       "      order_status order_purchase_timestamp    order_approved_at  \\\n",
       "0        delivered      2017-10-02 10:56:33  2017-10-02 11:07:15   \n",
       "1        delivered      2018-03-22 17:23:21  2018-03-22 18:05:36   \n",
       "2        delivered      2017-09-04 11:26:38  2017-09-04 11:43:25   \n",
       "3        delivered      2017-08-15 18:29:31  2017-08-15 20:05:16   \n",
       "4        delivered      2018-07-26 18:25:40  2018-07-27 02:10:26   \n",
       "...            ...                      ...                  ...   \n",
       "98171    delivered      2018-07-28 18:01:11  2018-07-28 18:15:14   \n",
       "98172    delivered      2018-04-16 20:51:56  2018-04-17 20:51:45   \n",
       "98173    delivered      2017-11-20 16:46:51  2017-11-20 16:56:23   \n",
       "98174    delivered      2018-07-09 18:25:16  2018-07-11 03:26:03   \n",
       "98175    delivered      2017-12-20 09:52:41  2017-12-20 10:09:52   \n",
       "\n",
       "      order_delivered_carrier_date order_delivered_customer_date  \\\n",
       "0              2017-10-04 19:55:00           2017-10-10 21:25:13   \n",
       "1              2018-03-23 18:03:03           2018-03-25 17:22:41   \n",
       "2              2017-09-04 21:22:15           2017-09-05 19:20:20   \n",
       "3              2017-08-17 15:28:33           2017-08-18 14:44:43   \n",
       "4              2018-08-02 14:13:00           2018-08-07 12:12:23   \n",
       "...                            ...                           ...   \n",
       "98171          2018-07-30 14:06:00           2018-08-06 16:41:43   \n",
       "98172          2018-04-19 19:54:43           2018-04-30 15:43:45   \n",
       "98173          2017-11-24 15:39:15           2017-12-05 00:57:57   \n",
       "98174          2018-07-11 12:12:00           2018-07-24 21:22:15   \n",
       "98175          2017-12-20 20:25:25           2018-01-26 15:45:14   \n",
       "\n",
       "      order_estimated_delivery_date estimate_delivery_time_diff  \\\n",
       "0                        2017-10-18             7 days 02:34:47   \n",
       "1                        2018-04-04             9 days 06:37:19   \n",
       "2                        2017-09-15             9 days 04:39:40   \n",
       "3                        2017-08-28             9 days 09:15:17   \n",
       "4                        2018-08-20            12 days 11:47:37   \n",
       "...                             ...                         ...   \n",
       "98171                    2018-08-15             8 days 07:18:17   \n",
       "98172                    2018-05-16            15 days 08:16:15   \n",
       "98173                    2017-12-13             7 days 23:02:03   \n",
       "98174                    2018-08-06            12 days 02:37:45   \n",
       "98175                    2018-01-18           -9 days +08:14:46   \n",
       "\n",
       "         delivery_time  ...                customer_unique_id  \\\n",
       "0      2 days 08:47:45  ...  7c396fd4830fd04220f754e42b4e5bff   \n",
       "1      0 days 23:57:27  ...  8a4002923e801e3120a11070fd31c9e2   \n",
       "2      0 days 09:38:50  ...  7c396fd4830fd04220f754e42b4e5bff   \n",
       "3      1 days 19:23:17  ...  3a51803cc0d012c3b5dc8b7528cb05f7   \n",
       "4      6 days 12:02:34  ...  806ab9e6d7c897da7e3b6104dadadc34   \n",
       "...                ...  ...                               ...   \n",
       "98171  1 days 19:50:46  ...  8b8c8f067a3faaf116211277147a88de   \n",
       "98172  1 days 23:02:58  ...  1ef6a1d949703afd7a74347aed3b0503   \n",
       "98173  3 days 22:42:52  ...  ebc6df639d125e446f07c0e9b1e47b90   \n",
       "98174  0 days 08:45:57  ...  ed81a42bec90c87578108d2e4c742d20   \n",
       "98175  0 days 10:15:33  ...  a49e8e11e850592fe685ae3c64b40eca   \n",
       "\n",
       "      customer_zip_code_prefix           customer_city  customer_state  \\\n",
       "0                         3149               sao paulo              SP   \n",
       "1                         3149               sao paulo              SP   \n",
       "2                         3149               sao paulo              SP   \n",
       "3                         3366               sao paulo              SP   \n",
       "4                         3366               sao paulo              SP   \n",
       "...                        ...                     ...             ...   \n",
       "98171                    35494  desterro de entre rios              MG   \n",
       "98172                    77413                  gurupi              TO   \n",
       "98173                    32250                contagem              MG   \n",
       "98174                    44798               umburanas              BA   \n",
       "98175                    83870        campo do tenente              PR   \n",
       "\n",
       "       customer_lat customer_lng  payment_sequential          payment_type  \\\n",
       "0        -23.574809   -46.587471                   3  credit_card, voucher   \n",
       "1        -23.574809   -46.587471                   1           credit_card   \n",
       "2        -23.574809   -46.587471                   1           credit_card   \n",
       "3        -23.565578   -46.534603                   1           credit_card   \n",
       "4        -23.565578   -46.534603                   1                boleto   \n",
       "...             ...          ...                 ...                   ...   \n",
       "98171    -20.657355   -44.340017                   1           credit_card   \n",
       "98172    -11.743299   -49.048090                   1           credit_card   \n",
       "98173    -19.967817   -44.048033                   1           credit_card   \n",
       "98174    -10.728517   -41.324377                   1                boleto   \n",
       "98175    -26.001234   -49.668993                   1           credit_card   \n",
       "\n",
       "       payment_installments  payment_value  \n",
       "0                         1          38.71  \n",
       "1                         2         223.38  \n",
       "2                         1          44.11  \n",
       "3                         3          37.77  \n",
       "4                         1         102.08  \n",
       "...                     ...            ...  \n",
       "98171                     1          58.28  \n",
       "98172                     3          59.03  \n",
       "98173                     7         148.47  \n",
       "98174                     1         123.75  \n",
       "98175                     1          71.04  \n",
       "\n",
       "[98176 rows x 30 columns]"
      ]
     },
     "execution_count": 4,
     "metadata": {},
     "output_type": "execute_result"
    }
   ],
   "source": [
    "merge"
   ]
  },
  {
   "cell_type": "code",
   "execution_count": 5,
   "id": "64a20507",
   "metadata": {},
   "outputs": [
    {
     "name": "stdout",
     "output_type": "stream",
     "text": [
      "<class 'pandas.core.frame.DataFrame'>\n",
      "RangeIndex: 98176 entries, 0 to 98175\n",
      "Data columns (total 30 columns):\n",
      " #   Column                         Non-Null Count  Dtype  \n",
      "---  ------                         --------------  -----  \n",
      " 0   order_id                       98176 non-null  object \n",
      " 1   customer_id                    98176 non-null  object \n",
      " 2   order_status                   98176 non-null  object \n",
      " 3   order_purchase_timestamp       98176 non-null  object \n",
      " 4   order_approved_at              98176 non-null  object \n",
      " 5   order_delivered_carrier_date   98176 non-null  object \n",
      " 6   order_delivered_customer_date  97080 non-null  object \n",
      " 7   order_estimated_delivery_date  98176 non-null  object \n",
      " 8   estimate_delivery_time_diff    97080 non-null  object \n",
      " 9   delivery_time                  98176 non-null  object \n",
      " 10  product_id                     98176 non-null  object \n",
      " 11  seller_id                      98176 non-null  object \n",
      " 12  price                          98176 non-null  float64\n",
      " 13  freight_value                  98176 non-null  float64\n",
      " 14  order_count                    98176 non-null  int64  \n",
      " 15  product_category_name          98176 non-null  object \n",
      " 16  product_weight_g               98176 non-null  float64\n",
      " 17  product_length_cm              98176 non-null  float64\n",
      " 18  product_height_cm              98176 non-null  float64\n",
      " 19  product_width_cm               98176 non-null  float64\n",
      " 20  customer_unique_id             98176 non-null  object \n",
      " 21  customer_zip_code_prefix       98176 non-null  int64  \n",
      " 22  customer_city                  98176 non-null  object \n",
      " 23  customer_state                 98176 non-null  object \n",
      " 24  customer_lat                   98176 non-null  float64\n",
      " 25  customer_lng                   98176 non-null  float64\n",
      " 26  payment_sequential             98176 non-null  int64  \n",
      " 27  payment_type                   98176 non-null  object \n",
      " 28  payment_installments           98176 non-null  int64  \n",
      " 29  payment_value                  98176 non-null  float64\n",
      "dtypes: float64(9), int64(4), object(17)\n",
      "memory usage: 22.5+ MB\n"
     ]
    }
   ],
   "source": [
    "merge.info()"
   ]
  },
  {
   "cell_type": "code",
   "execution_count": 6,
   "id": "6bea84e4",
   "metadata": {},
   "outputs": [
    {
     "data": {
      "text/plain": [
       "order_id                         94582\n",
       "customer_id                      94582\n",
       "order_status                         2\n",
       "order_purchase_timestamp         94067\n",
       "order_approved_at                86865\n",
       "order_delivered_carrier_date     78688\n",
       "order_delivered_customer_date    92741\n",
       "order_estimated_delivery_date      445\n",
       "estimate_delivery_time_diff      89217\n",
       "delivery_time                    84784\n",
       "product_id                       31460\n",
       "seller_id                         2908\n",
       "price                             5766\n",
       "freight_value                     6895\n",
       "order_count                         16\n",
       "product_category_name               71\n",
       "product_weight_g                  2164\n",
       "product_length_cm                   99\n",
       "product_height_cm                  102\n",
       "product_width_cm                    95\n",
       "customer_unique_id               91539\n",
       "customer_zip_code_prefix         14696\n",
       "customer_city                     4022\n",
       "customer_state                      27\n",
       "customer_lat                     14692\n",
       "customer_lng                     14693\n",
       "payment_sequential                  20\n",
       "payment_type                         7\n",
       "payment_installments                24\n",
       "payment_value                    26935\n",
       "dtype: int64"
      ]
     },
     "execution_count": 6,
     "metadata": {},
     "output_type": "execute_result"
    }
   ],
   "source": [
    "merge.nunique()"
   ]
  },
  {
   "cell_type": "markdown",
   "id": "d7eec37a",
   "metadata": {},
   "source": [
    "# R"
   ]
  },
  {
   "cell_type": "markdown",
   "id": "677b088e",
   "metadata": {},
   "source": [
    "- 가장 최근 일자를 기준으로 하여 각 고객별 r을 구해, 기준일까지 얼마나 지났는가를 구함 "
   ]
  },
  {
   "cell_type": "code",
   "execution_count": 7,
   "id": "ed2d7c7a",
   "metadata": {},
   "outputs": [],
   "source": [
    "recency = merge.groupby('customer_unique_id')['order_purchase_timestamp'].max().reset_index()"
   ]
  },
  {
   "cell_type": "code",
   "execution_count": 8,
   "id": "1375a3f1",
   "metadata": {},
   "outputs": [],
   "source": [
    "recency.rename(columns={'order_purchase_timestamp':'recency'},inplace=True)"
   ]
  },
  {
   "cell_type": "code",
   "execution_count": 9,
   "id": "7147ffc1",
   "metadata": {},
   "outputs": [
    {
     "data": {
      "text/plain": [
       "'2018-09-03 09:06:57'"
      ]
     },
     "execution_count": 9,
     "metadata": {},
     "output_type": "execute_result"
    }
   ],
   "source": [
    "max_date = recency['recency'].max()\n",
    "max_date"
   ]
  },
  {
   "cell_type": "code",
   "execution_count": 10,
   "id": "7514d6ae",
   "metadata": {},
   "outputs": [
    {
     "data": {
      "text/html": [
       "<div>\n",
       "<style scoped>\n",
       "    .dataframe tbody tr th:only-of-type {\n",
       "        vertical-align: middle;\n",
       "    }\n",
       "\n",
       "    .dataframe tbody tr th {\n",
       "        vertical-align: top;\n",
       "    }\n",
       "\n",
       "    .dataframe thead th {\n",
       "        text-align: right;\n",
       "    }\n",
       "</style>\n",
       "<table border=\"1\" class=\"dataframe\">\n",
       "  <thead>\n",
       "    <tr style=\"text-align: right;\">\n",
       "      <th></th>\n",
       "      <th>customer_unique_id</th>\n",
       "      <th>recency</th>\n",
       "    </tr>\n",
       "  </thead>\n",
       "  <tbody>\n",
       "    <tr>\n",
       "      <th>0</th>\n",
       "      <td>0000366f3b9a7992bf8c76cfdf3221e2</td>\n",
       "      <td>2018-05-10 10:56:27</td>\n",
       "    </tr>\n",
       "    <tr>\n",
       "      <th>1</th>\n",
       "      <td>0000b849f77a49e4a4ce2b2a4ca5be3f</td>\n",
       "      <td>2018-05-07 11:11:27</td>\n",
       "    </tr>\n",
       "    <tr>\n",
       "      <th>2</th>\n",
       "      <td>0000f46a3911fa3c0805444483337064</td>\n",
       "      <td>2017-03-10 21:05:03</td>\n",
       "    </tr>\n",
       "    <tr>\n",
       "      <th>3</th>\n",
       "      <td>0000f6ccb0745a6a4b88665a16c9f078</td>\n",
       "      <td>2017-10-12 20:29:41</td>\n",
       "    </tr>\n",
       "    <tr>\n",
       "      <th>4</th>\n",
       "      <td>0004aac84e0df4da2b147fca70cf8255</td>\n",
       "      <td>2017-11-14 19:45:42</td>\n",
       "    </tr>\n",
       "    <tr>\n",
       "      <th>...</th>\n",
       "      <td>...</td>\n",
       "      <td>...</td>\n",
       "    </tr>\n",
       "    <tr>\n",
       "      <th>91534</th>\n",
       "      <td>fffcf5a5ff07b0908bd4e2dbc735a684</td>\n",
       "      <td>2017-06-08 21:00:36</td>\n",
       "    </tr>\n",
       "    <tr>\n",
       "      <th>91535</th>\n",
       "      <td>fffea47cd6d3cc0a88bd621562a9d061</td>\n",
       "      <td>2017-12-10 20:07:56</td>\n",
       "    </tr>\n",
       "    <tr>\n",
       "      <th>91536</th>\n",
       "      <td>ffff371b4d645b6ecea244b27531430a</td>\n",
       "      <td>2017-02-07 15:49:16</td>\n",
       "    </tr>\n",
       "    <tr>\n",
       "      <th>91537</th>\n",
       "      <td>ffff5962728ec6157033ef9805bacc48</td>\n",
       "      <td>2018-05-02 15:17:41</td>\n",
       "    </tr>\n",
       "    <tr>\n",
       "      <th>91538</th>\n",
       "      <td>ffffd2657e2aad2907e67c3e9daecbeb</td>\n",
       "      <td>2017-05-02 20:18:45</td>\n",
       "    </tr>\n",
       "  </tbody>\n",
       "</table>\n",
       "<p>91539 rows × 2 columns</p>\n",
       "</div>"
      ],
      "text/plain": [
       "                     customer_unique_id              recency\n",
       "0      0000366f3b9a7992bf8c76cfdf3221e2  2018-05-10 10:56:27\n",
       "1      0000b849f77a49e4a4ce2b2a4ca5be3f  2018-05-07 11:11:27\n",
       "2      0000f46a3911fa3c0805444483337064  2017-03-10 21:05:03\n",
       "3      0000f6ccb0745a6a4b88665a16c9f078  2017-10-12 20:29:41\n",
       "4      0004aac84e0df4da2b147fca70cf8255  2017-11-14 19:45:42\n",
       "...                                 ...                  ...\n",
       "91534  fffcf5a5ff07b0908bd4e2dbc735a684  2017-06-08 21:00:36\n",
       "91535  fffea47cd6d3cc0a88bd621562a9d061  2017-12-10 20:07:56\n",
       "91536  ffff371b4d645b6ecea244b27531430a  2017-02-07 15:49:16\n",
       "91537  ffff5962728ec6157033ef9805bacc48  2018-05-02 15:17:41\n",
       "91538  ffffd2657e2aad2907e67c3e9daecbeb  2017-05-02 20:18:45\n",
       "\n",
       "[91539 rows x 2 columns]"
      ]
     },
     "execution_count": 10,
     "metadata": {},
     "output_type": "execute_result"
    }
   ],
   "source": [
    "recency "
   ]
  },
  {
   "cell_type": "code",
   "execution_count": 11,
   "id": "030d49ab",
   "metadata": {},
   "outputs": [],
   "source": [
    "recency.recency =pd.to_datetime(recency.recency )"
   ]
  },
  {
   "cell_type": "code",
   "execution_count": 12,
   "id": "b0624948",
   "metadata": {},
   "outputs": [],
   "source": [
    "max_date=pd.to_datetime(max_date)"
   ]
  },
  {
   "cell_type": "code",
   "execution_count": 13,
   "id": "e486bdaf",
   "metadata": {},
   "outputs": [],
   "source": [
    "recency['diff_date'] = (max_date - recency['recency']).dt.days # dt.days : 시간 없이 날짜만 남기기"
   ]
  },
  {
   "cell_type": "code",
   "execution_count": 14,
   "id": "5149718d",
   "metadata": {},
   "outputs": [
    {
     "data": {
      "text/html": [
       "<div>\n",
       "<style scoped>\n",
       "    .dataframe tbody tr th:only-of-type {\n",
       "        vertical-align: middle;\n",
       "    }\n",
       "\n",
       "    .dataframe tbody tr th {\n",
       "        vertical-align: top;\n",
       "    }\n",
       "\n",
       "    .dataframe thead th {\n",
       "        text-align: right;\n",
       "    }\n",
       "</style>\n",
       "<table border=\"1\" class=\"dataframe\">\n",
       "  <thead>\n",
       "    <tr style=\"text-align: right;\">\n",
       "      <th></th>\n",
       "      <th>customer_unique_id</th>\n",
       "      <th>recency</th>\n",
       "      <th>diff_date</th>\n",
       "    </tr>\n",
       "  </thead>\n",
       "  <tbody>\n",
       "    <tr>\n",
       "      <th>0</th>\n",
       "      <td>0000366f3b9a7992bf8c76cfdf3221e2</td>\n",
       "      <td>2018-05-10 10:56:27</td>\n",
       "      <td>115</td>\n",
       "    </tr>\n",
       "    <tr>\n",
       "      <th>1</th>\n",
       "      <td>0000b849f77a49e4a4ce2b2a4ca5be3f</td>\n",
       "      <td>2018-05-07 11:11:27</td>\n",
       "      <td>118</td>\n",
       "    </tr>\n",
       "    <tr>\n",
       "      <th>2</th>\n",
       "      <td>0000f46a3911fa3c0805444483337064</td>\n",
       "      <td>2017-03-10 21:05:03</td>\n",
       "      <td>541</td>\n",
       "    </tr>\n",
       "    <tr>\n",
       "      <th>3</th>\n",
       "      <td>0000f6ccb0745a6a4b88665a16c9f078</td>\n",
       "      <td>2017-10-12 20:29:41</td>\n",
       "      <td>325</td>\n",
       "    </tr>\n",
       "    <tr>\n",
       "      <th>4</th>\n",
       "      <td>0004aac84e0df4da2b147fca70cf8255</td>\n",
       "      <td>2017-11-14 19:45:42</td>\n",
       "      <td>292</td>\n",
       "    </tr>\n",
       "    <tr>\n",
       "      <th>...</th>\n",
       "      <td>...</td>\n",
       "      <td>...</td>\n",
       "      <td>...</td>\n",
       "    </tr>\n",
       "    <tr>\n",
       "      <th>91534</th>\n",
       "      <td>fffcf5a5ff07b0908bd4e2dbc735a684</td>\n",
       "      <td>2017-06-08 21:00:36</td>\n",
       "      <td>451</td>\n",
       "    </tr>\n",
       "    <tr>\n",
       "      <th>91535</th>\n",
       "      <td>fffea47cd6d3cc0a88bd621562a9d061</td>\n",
       "      <td>2017-12-10 20:07:56</td>\n",
       "      <td>266</td>\n",
       "    </tr>\n",
       "    <tr>\n",
       "      <th>91536</th>\n",
       "      <td>ffff371b4d645b6ecea244b27531430a</td>\n",
       "      <td>2017-02-07 15:49:16</td>\n",
       "      <td>572</td>\n",
       "    </tr>\n",
       "    <tr>\n",
       "      <th>91537</th>\n",
       "      <td>ffff5962728ec6157033ef9805bacc48</td>\n",
       "      <td>2018-05-02 15:17:41</td>\n",
       "      <td>123</td>\n",
       "    </tr>\n",
       "    <tr>\n",
       "      <th>91538</th>\n",
       "      <td>ffffd2657e2aad2907e67c3e9daecbeb</td>\n",
       "      <td>2017-05-02 20:18:45</td>\n",
       "      <td>488</td>\n",
       "    </tr>\n",
       "  </tbody>\n",
       "</table>\n",
       "<p>91539 rows × 3 columns</p>\n",
       "</div>"
      ],
      "text/plain": [
       "                     customer_unique_id             recency  diff_date\n",
       "0      0000366f3b9a7992bf8c76cfdf3221e2 2018-05-10 10:56:27        115\n",
       "1      0000b849f77a49e4a4ce2b2a4ca5be3f 2018-05-07 11:11:27        118\n",
       "2      0000f46a3911fa3c0805444483337064 2017-03-10 21:05:03        541\n",
       "3      0000f6ccb0745a6a4b88665a16c9f078 2017-10-12 20:29:41        325\n",
       "4      0004aac84e0df4da2b147fca70cf8255 2017-11-14 19:45:42        292\n",
       "...                                 ...                 ...        ...\n",
       "91534  fffcf5a5ff07b0908bd4e2dbc735a684 2017-06-08 21:00:36        451\n",
       "91535  fffea47cd6d3cc0a88bd621562a9d061 2017-12-10 20:07:56        266\n",
       "91536  ffff371b4d645b6ecea244b27531430a 2017-02-07 15:49:16        572\n",
       "91537  ffff5962728ec6157033ef9805bacc48 2018-05-02 15:17:41        123\n",
       "91538  ffffd2657e2aad2907e67c3e9daecbeb 2017-05-02 20:18:45        488\n",
       "\n",
       "[91539 rows x 3 columns]"
      ]
     },
     "execution_count": 14,
     "metadata": {},
     "output_type": "execute_result"
    }
   ],
   "source": [
    "recency "
   ]
  },
  {
   "cell_type": "code",
   "execution_count": 15,
   "id": "1ec65911",
   "metadata": {},
   "outputs": [
    {
     "data": {
      "text/plain": [
       "count    91539.000000\n",
       "mean       243.105529\n",
       "std        152.519037\n",
       "min          0.000000\n",
       "25%        119.000000\n",
       "50%        224.000000\n",
       "75%        352.000000\n",
       "max        728.000000\n",
       "Name: diff_date, dtype: float64"
      ]
     },
     "execution_count": 15,
     "metadata": {},
     "output_type": "execute_result"
    }
   ],
   "source": [
    "recency['diff_date'].describe()"
   ]
  },
  {
   "cell_type": "code",
   "execution_count": 16,
   "id": "7fbf6d90",
   "metadata": {},
   "outputs": [
    {
     "data": {
      "text/plain": [
       "<seaborn.axisgrid.FacetGrid at 0x7ff58e27f910>"
      ]
     },
     "execution_count": 16,
     "metadata": {},
     "output_type": "execute_result"
    },
    {
     "data": {
      "image/png": "[encoded data removed]",
      "text/plain": [
       "<Figure size 360x360 with 1 Axes>"
      ]
     },
     "metadata": {
      "needs_background": "light"
     },
     "output_type": "display_data"
    }
   ],
   "source": [
    "sns.displot(recency['diff_date'])"
   ]
  },
  {
   "cell_type": "code",
   "execution_count": 17,
   "id": "e6601ee2",
   "metadata": {},
   "outputs": [],
   "source": [
    "r_bins = pd.qcut(recency['diff_date'], 5, labels = [5,4,3,2,1])\n",
    "recency['r_score'] = r_bins"
   ]
  },
  {
   "cell_type": "code",
   "execution_count": 18,
   "id": "7de9e7b1",
   "metadata": {},
   "outputs": [
    {
     "data": {
      "text/plain": [
       "<seaborn.axisgrid.FacetGrid at 0x7ff58e298490>"
      ]
     },
     "execution_count": 18,
     "metadata": {},
     "output_type": "execute_result"
    },
    {
     "data": {
      "image/png": "[encoded data removed]",
      "text/plain": [
       "<Figure size 360x360 with 1 Axes>"
      ]
     },
     "metadata": {
      "needs_background": "light"
     },
     "output_type": "display_data"
    }
   ],
   "source": [
    "sns.displot(recency['r_score'])"
   ]
  },
  {
   "cell_type": "markdown",
   "id": "681c1eb6",
   "metadata": {},
   "source": [
    "# F"
   ]
  },
  {
   "cell_type": "markdown",
   "id": "e94c8057",
   "metadata": {},
   "source": [
    "- frequency 점수의 분포를 살펴봤을 때, 1회 또는 2회만 구매한 고객이 너무 많아서 pd.qcut() 함수가 적용이 불가능하다는 것을 알게 되었습니다. 그렇기 때문에 F 점수는 나머지와 다르게 1회 구매했으면 1점, 2회 구매했으면 2점, 3회 구매했으면 3점, 4회 구매했으면 4점, 그 이상 구매했으면 5점을 부여하는 함수를 만들어 적용했습니다."
   ]
  },
  {
   "cell_type": "code",
   "execution_count": 19,
   "id": "182736d2",
   "metadata": {},
   "outputs": [],
   "source": [
    "frequency = merge.groupby('customer_unique_id')['order_purchase_timestamp'].nunique().reset_index()"
   ]
  },
  {
   "cell_type": "code",
   "execution_count": 20,
   "id": "0729b548",
   "metadata": {},
   "outputs": [
    {
     "name": "stdout",
     "output_type": "stream",
     "text": [
      "<class 'pandas.core.frame.DataFrame'>\n",
      "RangeIndex: 91539 entries, 0 to 91538\n",
      "Data columns (total 2 columns):\n",
      " #   Column                    Non-Null Count  Dtype \n",
      "---  ------                    --------------  ----- \n",
      " 0   customer_unique_id        91539 non-null  object\n",
      " 1   order_purchase_timestamp  91539 non-null  int64 \n",
      "dtypes: int64(1), object(1)\n",
      "memory usage: 1.4+ MB\n"
     ]
    }
   ],
   "source": [
    "frequency.info()"
   ]
  },
  {
   "cell_type": "code",
   "execution_count": 21,
   "id": "92276e6a",
   "metadata": {},
   "outputs": [],
   "source": [
    "frequency.rename(columns={'order_purchase_timestamp':'frequency'},inplace=True)"
   ]
  },
  {
   "cell_type": "code",
   "execution_count": 22,
   "id": "82c20d0c",
   "metadata": {},
   "outputs": [
    {
     "data": {
      "text/html": [
       "<div>\n",
       "<style scoped>\n",
       "    .dataframe tbody tr th:only-of-type {\n",
       "        vertical-align: middle;\n",
       "    }\n",
       "\n",
       "    .dataframe tbody tr th {\n",
       "        vertical-align: top;\n",
       "    }\n",
       "\n",
       "    .dataframe thead th {\n",
       "        text-align: right;\n",
       "    }\n",
       "</style>\n",
       "<table border=\"1\" class=\"dataframe\">\n",
       "  <thead>\n",
       "    <tr style=\"text-align: right;\">\n",
       "      <th></th>\n",
       "      <th>customer_unique_id</th>\n",
       "      <th>frequency</th>\n",
       "    </tr>\n",
       "  </thead>\n",
       "  <tbody>\n",
       "    <tr>\n",
       "      <th>0</th>\n",
       "      <td>0000366f3b9a7992bf8c76cfdf3221e2</td>\n",
       "      <td>1</td>\n",
       "    </tr>\n",
       "    <tr>\n",
       "      <th>1</th>\n",
       "      <td>0000b849f77a49e4a4ce2b2a4ca5be3f</td>\n",
       "      <td>1</td>\n",
       "    </tr>\n",
       "    <tr>\n",
       "      <th>2</th>\n",
       "      <td>0000f46a3911fa3c0805444483337064</td>\n",
       "      <td>1</td>\n",
       "    </tr>\n",
       "    <tr>\n",
       "      <th>3</th>\n",
       "      <td>0000f6ccb0745a6a4b88665a16c9f078</td>\n",
       "      <td>1</td>\n",
       "    </tr>\n",
       "    <tr>\n",
       "      <th>4</th>\n",
       "      <td>0004aac84e0df4da2b147fca70cf8255</td>\n",
       "      <td>1</td>\n",
       "    </tr>\n",
       "    <tr>\n",
       "      <th>...</th>\n",
       "      <td>...</td>\n",
       "      <td>...</td>\n",
       "    </tr>\n",
       "    <tr>\n",
       "      <th>91534</th>\n",
       "      <td>fffcf5a5ff07b0908bd4e2dbc735a684</td>\n",
       "      <td>1</td>\n",
       "    </tr>\n",
       "    <tr>\n",
       "      <th>91535</th>\n",
       "      <td>fffea47cd6d3cc0a88bd621562a9d061</td>\n",
       "      <td>1</td>\n",
       "    </tr>\n",
       "    <tr>\n",
       "      <th>91536</th>\n",
       "      <td>ffff371b4d645b6ecea244b27531430a</td>\n",
       "      <td>1</td>\n",
       "    </tr>\n",
       "    <tr>\n",
       "      <th>91537</th>\n",
       "      <td>ffff5962728ec6157033ef9805bacc48</td>\n",
       "      <td>1</td>\n",
       "    </tr>\n",
       "    <tr>\n",
       "      <th>91538</th>\n",
       "      <td>ffffd2657e2aad2907e67c3e9daecbeb</td>\n",
       "      <td>1</td>\n",
       "    </tr>\n",
       "  </tbody>\n",
       "</table>\n",
       "<p>91539 rows × 2 columns</p>\n",
       "</div>"
      ],
      "text/plain": [
       "                     customer_unique_id  frequency\n",
       "0      0000366f3b9a7992bf8c76cfdf3221e2          1\n",
       "1      0000b849f77a49e4a4ce2b2a4ca5be3f          1\n",
       "2      0000f46a3911fa3c0805444483337064          1\n",
       "3      0000f6ccb0745a6a4b88665a16c9f078          1\n",
       "4      0004aac84e0df4da2b147fca70cf8255          1\n",
       "...                                 ...        ...\n",
       "91534  fffcf5a5ff07b0908bd4e2dbc735a684          1\n",
       "91535  fffea47cd6d3cc0a88bd621562a9d061          1\n",
       "91536  ffff371b4d645b6ecea244b27531430a          1\n",
       "91537  ffff5962728ec6157033ef9805bacc48          1\n",
       "91538  ffffd2657e2aad2907e67c3e9daecbeb          1\n",
       "\n",
       "[91539 rows x 2 columns]"
      ]
     },
     "execution_count": 22,
     "metadata": {},
     "output_type": "execute_result"
    }
   ],
   "source": [
    "frequency"
   ]
  },
  {
   "cell_type": "code",
   "execution_count": 23,
   "id": "7983e8df",
   "metadata": {},
   "outputs": [],
   "source": [
    "def parse_values(x):\n",
    "    switch = {\n",
    "        1: 1,\n",
    "        2: 2,\n",
    "        3: 3,\n",
    "        4: 4\n",
    "    }\n",
    "    return switch.get(x, 5)\n",
    "    \n",
    "frequency['f_score'] = frequency['frequency'].apply(parse_values)"
   ]
  },
  {
   "cell_type": "code",
   "execution_count": 24,
   "id": "28d7d50a",
   "metadata": {},
   "outputs": [
    {
     "data": {
      "text/plain": [
       "customer_unique_id    91539\n",
       "frequency                 9\n",
       "f_score                   5\n",
       "dtype: int64"
      ]
     },
     "execution_count": 24,
     "metadata": {},
     "output_type": "execute_result"
    }
   ],
   "source": [
    "frequency.nunique()"
   ]
  },
  {
   "cell_type": "code",
   "execution_count": 25,
   "id": "867a5bd8",
   "metadata": {},
   "outputs": [
    {
     "data": {
      "text/plain": [
       "<seaborn.axisgrid.FacetGrid at 0x7ff58e830520>"
      ]
     },
     "execution_count": 25,
     "metadata": {},
     "output_type": "execute_result"
    },
    {
     "data": {
      "image/png": "[encoded data removed]",
      "text/plain": [
       "<Figure size 360x360 with 1 Axes>"
      ]
     },
     "metadata": {
      "needs_background": "light"
     },
     "output_type": "display_data"
    }
   ],
   "source": [
    "sns.displot(frequency['f_score'])"
   ]
  },
  {
   "cell_type": "markdown",
   "id": "16f03e23",
   "metadata": {},
   "source": [
    "# M"
   ]
  },
  {
   "cell_type": "code",
   "execution_count": 26,
   "id": "c3549211",
   "metadata": {},
   "outputs": [],
   "source": [
    "monetary = merge.groupby('customer_unique_id')['payment_value'].sum().reset_index()"
   ]
  },
  {
   "cell_type": "code",
   "execution_count": 27,
   "id": "49301ff0",
   "metadata": {},
   "outputs": [],
   "source": [
    "monetary.rename(columns={'payment_value':'monetary'},inplace=True)"
   ]
  },
  {
   "cell_type": "code",
   "execution_count": 28,
   "id": "3adbbf0a",
   "metadata": {},
   "outputs": [],
   "source": [
    "m_bins = pd.qcut(monetary['monetary'], 5, labels = [1, 2, 3, 4, 5])\n",
    "monetary['m_score'] = m_bins"
   ]
  },
  {
   "cell_type": "code",
   "execution_count": 29,
   "id": "3ef78c7e",
   "metadata": {},
   "outputs": [
    {
     "data": {
      "text/plain": [
       "count    91539.000000\n",
       "mean       175.801464\n",
       "std        264.898628\n",
       "min          9.590000\n",
       "25%         63.220000\n",
       "50%        108.810000\n",
       "75%        188.445000\n",
       "max      15978.650000\n",
       "Name: monetary, dtype: float64"
      ]
     },
     "execution_count": 29,
     "metadata": {},
     "output_type": "execute_result"
    }
   ],
   "source": [
    "monetary.monetary.describe()"
   ]
  },
  {
   "cell_type": "code",
   "execution_count": 30,
   "id": "ef0cd14c",
   "metadata": {},
   "outputs": [
    {
     "data": {
      "text/plain": [
       "2    18318\n",
       "4    18311\n",
       "1    18309\n",
       "5    18304\n",
       "3    18297\n",
       "Name: m_score, dtype: int64"
      ]
     },
     "execution_count": 30,
     "metadata": {},
     "output_type": "execute_result"
    }
   ],
   "source": [
    "monetary.m_score.value_counts()"
   ]
  },
  {
   "cell_type": "code",
   "execution_count": 31,
   "id": "0a19da5d",
   "metadata": {},
   "outputs": [
    {
     "data": {
      "text/plain": [
       "<seaborn.axisgrid.FacetGrid at 0x7ff5aa074d90>"
      ]
     },
     "execution_count": 31,
     "metadata": {},
     "output_type": "execute_result"
    },
    {
     "data": {
      "image/png": "[encoded data removed]",
      "text/plain": [
       "<Figure size 360x360 with 1 Axes>"
      ]
     },
     "metadata": {
      "needs_background": "light"
     },
     "output_type": "display_data"
    }
   ],
   "source": [
    "sns.displot(monetary['m_score'] )"
   ]
  },
  {
   "cell_type": "markdown",
   "id": "7ac9ceb1",
   "metadata": {},
   "source": [
    "# K_means"
   ]
  },
  {
   "cell_type": "markdown",
   "id": "43bf35fc",
   "metadata": {},
   "source": [
    "- r,m값 정규화"
   ]
  },
  {
   "cell_type": "code",
   "execution_count": 32,
   "id": "fc8902f4",
   "metadata": {},
   "outputs": [],
   "source": [
    "# recency, frequency, monetary 데이터프레임 하나로 합치기\n",
    "rfm_score = recency.merge(frequency, on = 'customer_unique_id')\n",
    "rfm_score = rfm_score.merge(monetary, on = 'customer_unique_id')"
   ]
  },
  {
   "cell_type": "code",
   "execution_count": 33,
   "id": "dbeaa8f5",
   "metadata": {},
   "outputs": [
    {
     "data": {
      "text/html": [
       "<div>\n",
       "<style scoped>\n",
       "    .dataframe tbody tr th:only-of-type {\n",
       "        vertical-align: middle;\n",
       "    }\n",
       "\n",
       "    .dataframe tbody tr th {\n",
       "        vertical-align: top;\n",
       "    }\n",
       "\n",
       "    .dataframe thead th {\n",
       "        text-align: right;\n",
       "    }\n",
       "</style>\n",
       "<table border=\"1\" class=\"dataframe\">\n",
       "  <thead>\n",
       "    <tr style=\"text-align: right;\">\n",
       "      <th></th>\n",
       "      <th>customer_unique_id</th>\n",
       "      <th>recency</th>\n",
       "      <th>diff_date</th>\n",
       "      <th>r_score</th>\n",
       "      <th>frequency</th>\n",
       "      <th>f_score</th>\n",
       "      <th>monetary</th>\n",
       "      <th>m_score</th>\n",
       "    </tr>\n",
       "  </thead>\n",
       "  <tbody>\n",
       "    <tr>\n",
       "      <th>0</th>\n",
       "      <td>0000366f3b9a7992bf8c76cfdf3221e2</td>\n",
       "      <td>2018-05-10 10:56:27</td>\n",
       "      <td>115</td>\n",
       "      <td>4</td>\n",
       "      <td>1</td>\n",
       "      <td>1</td>\n",
       "      <td>141.90</td>\n",
       "      <td>4</td>\n",
       "    </tr>\n",
       "    <tr>\n",
       "      <th>1</th>\n",
       "      <td>0000b849f77a49e4a4ce2b2a4ca5be3f</td>\n",
       "      <td>2018-05-07 11:11:27</td>\n",
       "      <td>118</td>\n",
       "      <td>4</td>\n",
       "      <td>1</td>\n",
       "      <td>1</td>\n",
       "      <td>27.19</td>\n",
       "      <td>1</td>\n",
       "    </tr>\n",
       "    <tr>\n",
       "      <th>2</th>\n",
       "      <td>0000f46a3911fa3c0805444483337064</td>\n",
       "      <td>2017-03-10 21:05:03</td>\n",
       "      <td>541</td>\n",
       "      <td>1</td>\n",
       "      <td>1</td>\n",
       "      <td>1</td>\n",
       "      <td>86.22</td>\n",
       "      <td>2</td>\n",
       "    </tr>\n",
       "    <tr>\n",
       "      <th>3</th>\n",
       "      <td>0000f6ccb0745a6a4b88665a16c9f078</td>\n",
       "      <td>2017-10-12 20:29:41</td>\n",
       "      <td>325</td>\n",
       "      <td>2</td>\n",
       "      <td>1</td>\n",
       "      <td>1</td>\n",
       "      <td>43.62</td>\n",
       "      <td>1</td>\n",
       "    </tr>\n",
       "    <tr>\n",
       "      <th>4</th>\n",
       "      <td>0004aac84e0df4da2b147fca70cf8255</td>\n",
       "      <td>2017-11-14 19:45:42</td>\n",
       "      <td>292</td>\n",
       "      <td>2</td>\n",
       "      <td>1</td>\n",
       "      <td>1</td>\n",
       "      <td>196.89</td>\n",
       "      <td>4</td>\n",
       "    </tr>\n",
       "    <tr>\n",
       "      <th>...</th>\n",
       "      <td>...</td>\n",
       "      <td>...</td>\n",
       "      <td>...</td>\n",
       "      <td>...</td>\n",
       "      <td>...</td>\n",
       "      <td>...</td>\n",
       "      <td>...</td>\n",
       "      <td>...</td>\n",
       "    </tr>\n",
       "    <tr>\n",
       "      <th>91534</th>\n",
       "      <td>fffcf5a5ff07b0908bd4e2dbc735a684</td>\n",
       "      <td>2017-06-08 21:00:36</td>\n",
       "      <td>451</td>\n",
       "      <td>1</td>\n",
       "      <td>1</td>\n",
       "      <td>1</td>\n",
       "      <td>4134.84</td>\n",
       "      <td>5</td>\n",
       "    </tr>\n",
       "    <tr>\n",
       "      <th>91535</th>\n",
       "      <td>fffea47cd6d3cc0a88bd621562a9d061</td>\n",
       "      <td>2017-12-10 20:07:56</td>\n",
       "      <td>266</td>\n",
       "      <td>3</td>\n",
       "      <td>1</td>\n",
       "      <td>1</td>\n",
       "      <td>84.58</td>\n",
       "      <td>2</td>\n",
       "    </tr>\n",
       "    <tr>\n",
       "      <th>91536</th>\n",
       "      <td>ffff371b4d645b6ecea244b27531430a</td>\n",
       "      <td>2017-02-07 15:49:16</td>\n",
       "      <td>572</td>\n",
       "      <td>1</td>\n",
       "      <td>1</td>\n",
       "      <td>1</td>\n",
       "      <td>112.46</td>\n",
       "      <td>3</td>\n",
       "    </tr>\n",
       "    <tr>\n",
       "      <th>91537</th>\n",
       "      <td>ffff5962728ec6157033ef9805bacc48</td>\n",
       "      <td>2018-05-02 15:17:41</td>\n",
       "      <td>123</td>\n",
       "      <td>4</td>\n",
       "      <td>1</td>\n",
       "      <td>1</td>\n",
       "      <td>133.69</td>\n",
       "      <td>3</td>\n",
       "    </tr>\n",
       "    <tr>\n",
       "      <th>91538</th>\n",
       "      <td>ffffd2657e2aad2907e67c3e9daecbeb</td>\n",
       "      <td>2017-05-02 20:18:45</td>\n",
       "      <td>488</td>\n",
       "      <td>1</td>\n",
       "      <td>1</td>\n",
       "      <td>1</td>\n",
       "      <td>71.56</td>\n",
       "      <td>2</td>\n",
       "    </tr>\n",
       "  </tbody>\n",
       "</table>\n",
       "<p>91539 rows × 8 columns</p>\n",
       "</div>"
      ],
      "text/plain": [
       "                     customer_unique_id             recency  diff_date  \\\n",
       "0      0000366f3b9a7992bf8c76cfdf3221e2 2018-05-10 10:56:27        115   \n",
       "1      0000b849f77a49e4a4ce2b2a4ca5be3f 2018-05-07 11:11:27        118   \n",
       "2      0000f46a3911fa3c0805444483337064 2017-03-10 21:05:03        541   \n",
       "3      0000f6ccb0745a6a4b88665a16c9f078 2017-10-12 20:29:41        325   \n",
       "4      0004aac84e0df4da2b147fca70cf8255 2017-11-14 19:45:42        292   \n",
       "...                                 ...                 ...        ...   \n",
       "91534  fffcf5a5ff07b0908bd4e2dbc735a684 2017-06-08 21:00:36        451   \n",
       "91535  fffea47cd6d3cc0a88bd621562a9d061 2017-12-10 20:07:56        266   \n",
       "91536  ffff371b4d645b6ecea244b27531430a 2017-02-07 15:49:16        572   \n",
       "91537  ffff5962728ec6157033ef9805bacc48 2018-05-02 15:17:41        123   \n",
       "91538  ffffd2657e2aad2907e67c3e9daecbeb 2017-05-02 20:18:45        488   \n",
       "\n",
       "      r_score  frequency  f_score  monetary m_score  \n",
       "0           4          1        1    141.90       4  \n",
       "1           4          1        1     27.19       1  \n",
       "2           1          1        1     86.22       2  \n",
       "3           2          1        1     43.62       1  \n",
       "4           2          1        1    196.89       4  \n",
       "...       ...        ...      ...       ...     ...  \n",
       "91534       1          1        1   4134.84       5  \n",
       "91535       3          1        1     84.58       2  \n",
       "91536       1          1        1    112.46       3  \n",
       "91537       4          1        1    133.69       3  \n",
       "91538       1          1        1     71.56       2  \n",
       "\n",
       "[91539 rows x 8 columns]"
      ]
     },
     "execution_count": 33,
     "metadata": {},
     "output_type": "execute_result"
    }
   ],
   "source": [
    "rfm_score"
   ]
  },
  {
   "cell_type": "code",
   "execution_count": 34,
   "id": "da56ccd0",
   "metadata": {},
   "outputs": [],
   "source": [
    "from sklearn.preprocessing import MinMaxScaler\n",
    "\n",
    "\n",
    "scaler= pd.DataFrame()\n",
    "\n",
    "\n",
    "scaler[['diff_date','monetary']] = rfm_score[['diff_date','monetary']]"
   ]
  },
  {
   "cell_type": "code",
   "execution_count": 35,
   "id": "258c1f19",
   "metadata": {},
   "outputs": [
    {
     "data": {
      "text/html": [
       "<div>\n",
       "<style scoped>\n",
       "    .dataframe tbody tr th:only-of-type {\n",
       "        vertical-align: middle;\n",
       "    }\n",
       "\n",
       "    .dataframe tbody tr th {\n",
       "        vertical-align: top;\n",
       "    }\n",
       "\n",
       "    .dataframe thead th {\n",
       "        text-align: right;\n",
       "    }\n",
       "</style>\n",
       "<table border=\"1\" class=\"dataframe\">\n",
       "  <thead>\n",
       "    <tr style=\"text-align: right;\">\n",
       "      <th></th>\n",
       "      <th>diff_date</th>\n",
       "      <th>monetary</th>\n",
       "    </tr>\n",
       "  </thead>\n",
       "  <tbody>\n",
       "    <tr>\n",
       "      <th>0</th>\n",
       "      <td>115</td>\n",
       "      <td>141.90</td>\n",
       "    </tr>\n",
       "    <tr>\n",
       "      <th>1</th>\n",
       "      <td>118</td>\n",
       "      <td>27.19</td>\n",
       "    </tr>\n",
       "    <tr>\n",
       "      <th>2</th>\n",
       "      <td>541</td>\n",
       "      <td>86.22</td>\n",
       "    </tr>\n",
       "    <tr>\n",
       "      <th>3</th>\n",
       "      <td>325</td>\n",
       "      <td>43.62</td>\n",
       "    </tr>\n",
       "    <tr>\n",
       "      <th>4</th>\n",
       "      <td>292</td>\n",
       "      <td>196.89</td>\n",
       "    </tr>\n",
       "    <tr>\n",
       "      <th>...</th>\n",
       "      <td>...</td>\n",
       "      <td>...</td>\n",
       "    </tr>\n",
       "    <tr>\n",
       "      <th>91534</th>\n",
       "      <td>451</td>\n",
       "      <td>4134.84</td>\n",
       "    </tr>\n",
       "    <tr>\n",
       "      <th>91535</th>\n",
       "      <td>266</td>\n",
       "      <td>84.58</td>\n",
       "    </tr>\n",
       "    <tr>\n",
       "      <th>91536</th>\n",
       "      <td>572</td>\n",
       "      <td>112.46</td>\n",
       "    </tr>\n",
       "    <tr>\n",
       "      <th>91537</th>\n",
       "      <td>123</td>\n",
       "      <td>133.69</td>\n",
       "    </tr>\n",
       "    <tr>\n",
       "      <th>91538</th>\n",
       "      <td>488</td>\n",
       "      <td>71.56</td>\n",
       "    </tr>\n",
       "  </tbody>\n",
       "</table>\n",
       "<p>91539 rows × 2 columns</p>\n",
       "</div>"
      ],
      "text/plain": [
       "       diff_date  monetary\n",
       "0            115    141.90\n",
       "1            118     27.19\n",
       "2            541     86.22\n",
       "3            325     43.62\n",
       "4            292    196.89\n",
       "...          ...       ...\n",
       "91534        451   4134.84\n",
       "91535        266     84.58\n",
       "91536        572    112.46\n",
       "91537        123    133.69\n",
       "91538        488     71.56\n",
       "\n",
       "[91539 rows x 2 columns]"
      ]
     },
     "execution_count": 35,
     "metadata": {},
     "output_type": "execute_result"
    }
   ],
   "source": [
    "scaler"
   ]
  },
  {
   "cell_type": "code",
   "execution_count": 36,
   "id": "43bdcff5",
   "metadata": {},
   "outputs": [
    {
     "data": {
      "text/plain": [
       "array([[0.15796703, 0.0082854 ],\n",
       "       [0.16208791, 0.00110213],\n",
       "       [0.74313187, 0.00479865],\n",
       "       ...,\n",
       "       [0.78571429, 0.00644183],\n",
       "       [0.16895604, 0.00777128],\n",
       "       [0.67032967, 0.00388063]])"
      ]
     },
     "execution_count": 36,
     "metadata": {},
     "output_type": "execute_result"
    }
   ],
   "source": [
    "mms = MinMaxScaler()\n",
    "mms.fit(scaler)\n",
    "scaler=mms.transform(scaler)\n",
    "scaler"
   ]
  },
  {
   "cell_type": "code",
   "execution_count": 37,
   "id": "b3ef2f95",
   "metadata": {},
   "outputs": [
    {
     "data": {
      "text/html": [
       "<div>\n",
       "<style scoped>\n",
       "    .dataframe tbody tr th:only-of-type {\n",
       "        vertical-align: middle;\n",
       "    }\n",
       "\n",
       "    .dataframe tbody tr th {\n",
       "        vertical-align: top;\n",
       "    }\n",
       "\n",
       "    .dataframe thead th {\n",
       "        text-align: right;\n",
       "    }\n",
       "</style>\n",
       "<table border=\"1\" class=\"dataframe\">\n",
       "  <thead>\n",
       "    <tr style=\"text-align: right;\">\n",
       "      <th></th>\n",
       "      <th>diff_date</th>\n",
       "      <th>monetary</th>\n",
       "    </tr>\n",
       "  </thead>\n",
       "  <tbody>\n",
       "    <tr>\n",
       "      <th>0</th>\n",
       "      <td>0.157967</td>\n",
       "      <td>0.008285</td>\n",
       "    </tr>\n",
       "    <tr>\n",
       "      <th>1</th>\n",
       "      <td>0.162088</td>\n",
       "      <td>0.001102</td>\n",
       "    </tr>\n",
       "    <tr>\n",
       "      <th>2</th>\n",
       "      <td>0.743132</td>\n",
       "      <td>0.004799</td>\n",
       "    </tr>\n",
       "    <tr>\n",
       "      <th>3</th>\n",
       "      <td>0.446429</td>\n",
       "      <td>0.002131</td>\n",
       "    </tr>\n",
       "    <tr>\n",
       "      <th>4</th>\n",
       "      <td>0.401099</td>\n",
       "      <td>0.011729</td>\n",
       "    </tr>\n",
       "    <tr>\n",
       "      <th>...</th>\n",
       "      <td>...</td>\n",
       "      <td>...</td>\n",
       "    </tr>\n",
       "    <tr>\n",
       "      <th>91534</th>\n",
       "      <td>0.619505</td>\n",
       "      <td>0.258328</td>\n",
       "    </tr>\n",
       "    <tr>\n",
       "      <th>91535</th>\n",
       "      <td>0.365385</td>\n",
       "      <td>0.004696</td>\n",
       "    </tr>\n",
       "    <tr>\n",
       "      <th>91536</th>\n",
       "      <td>0.785714</td>\n",
       "      <td>0.006442</td>\n",
       "    </tr>\n",
       "    <tr>\n",
       "      <th>91537</th>\n",
       "      <td>0.168956</td>\n",
       "      <td>0.007771</td>\n",
       "    </tr>\n",
       "    <tr>\n",
       "      <th>91538</th>\n",
       "      <td>0.670330</td>\n",
       "      <td>0.003881</td>\n",
       "    </tr>\n",
       "  </tbody>\n",
       "</table>\n",
       "<p>91539 rows × 2 columns</p>\n",
       "</div>"
      ],
      "text/plain": [
       "       diff_date  monetary\n",
       "0       0.157967  0.008285\n",
       "1       0.162088  0.001102\n",
       "2       0.743132  0.004799\n",
       "3       0.446429  0.002131\n",
       "4       0.401099  0.011729\n",
       "...          ...       ...\n",
       "91534   0.619505  0.258328\n",
       "91535   0.365385  0.004696\n",
       "91536   0.785714  0.006442\n",
       "91537   0.168956  0.007771\n",
       "91538   0.670330  0.003881\n",
       "\n",
       "[91539 rows x 2 columns]"
      ]
     },
     "execution_count": 37,
     "metadata": {},
     "output_type": "execute_result"
    }
   ],
   "source": [
    "scaler= pd.DataFrame(scaler,\n",
    "                    columns=('diff_date','monetary'))\n",
    "scaler"
   ]
  },
  {
   "cell_type": "markdown",
   "id": "dc263732",
   "metadata": {},
   "source": [
    "- 정규화 r score 계산 "
   ]
  },
  {
   "cell_type": "code",
   "execution_count": 38,
   "id": "510fcf10",
   "metadata": {},
   "outputs": [
    {
     "data": {
      "text/plain": [
       "<seaborn.axisgrid.FacetGrid at 0x7ff58e26eb20>"
      ]
     },
     "execution_count": 38,
     "metadata": {},
     "output_type": "execute_result"
    },
    {
     "data": {
      "image/png": "[encoded data removed]",
      "text/plain": [
       "<Figure size 360x360 with 1 Axes>"
      ]
     },
     "metadata": {
      "needs_background": "light"
     },
     "output_type": "display_data"
    }
   ],
   "source": [
    "sns.displot(scaler['diff_date'])"
   ]
  },
  {
   "cell_type": "code",
   "execution_count": 39,
   "id": "ce3c16a3",
   "metadata": {},
   "outputs": [
    {
     "data": {
      "text/html": [
       "<div>\n",
       "<style scoped>\n",
       "    .dataframe tbody tr th:only-of-type {\n",
       "        vertical-align: middle;\n",
       "    }\n",
       "\n",
       "    .dataframe tbody tr th {\n",
       "        vertical-align: top;\n",
       "    }\n",
       "\n",
       "    .dataframe thead th {\n",
       "        text-align: right;\n",
       "    }\n",
       "</style>\n",
       "<table border=\"1\" class=\"dataframe\">\n",
       "  <thead>\n",
       "    <tr style=\"text-align: right;\">\n",
       "      <th></th>\n",
       "      <th>diff_date</th>\n",
       "      <th>monetary</th>\n",
       "      <th>r_score</th>\n",
       "    </tr>\n",
       "  </thead>\n",
       "  <tbody>\n",
       "    <tr>\n",
       "      <th>0</th>\n",
       "      <td>0.157967</td>\n",
       "      <td>0.008285</td>\n",
       "      <td>4</td>\n",
       "    </tr>\n",
       "    <tr>\n",
       "      <th>1</th>\n",
       "      <td>0.162088</td>\n",
       "      <td>0.001102</td>\n",
       "      <td>4</td>\n",
       "    </tr>\n",
       "    <tr>\n",
       "      <th>2</th>\n",
       "      <td>0.743132</td>\n",
       "      <td>0.004799</td>\n",
       "      <td>1</td>\n",
       "    </tr>\n",
       "    <tr>\n",
       "      <th>3</th>\n",
       "      <td>0.446429</td>\n",
       "      <td>0.002131</td>\n",
       "      <td>2</td>\n",
       "    </tr>\n",
       "    <tr>\n",
       "      <th>4</th>\n",
       "      <td>0.401099</td>\n",
       "      <td>0.011729</td>\n",
       "      <td>2</td>\n",
       "    </tr>\n",
       "    <tr>\n",
       "      <th>...</th>\n",
       "      <td>...</td>\n",
       "      <td>...</td>\n",
       "      <td>...</td>\n",
       "    </tr>\n",
       "    <tr>\n",
       "      <th>91534</th>\n",
       "      <td>0.619505</td>\n",
       "      <td>0.258328</td>\n",
       "      <td>1</td>\n",
       "    </tr>\n",
       "    <tr>\n",
       "      <th>91535</th>\n",
       "      <td>0.365385</td>\n",
       "      <td>0.004696</td>\n",
       "      <td>3</td>\n",
       "    </tr>\n",
       "    <tr>\n",
       "      <th>91536</th>\n",
       "      <td>0.785714</td>\n",
       "      <td>0.006442</td>\n",
       "      <td>1</td>\n",
       "    </tr>\n",
       "    <tr>\n",
       "      <th>91537</th>\n",
       "      <td>0.168956</td>\n",
       "      <td>0.007771</td>\n",
       "      <td>4</td>\n",
       "    </tr>\n",
       "    <tr>\n",
       "      <th>91538</th>\n",
       "      <td>0.670330</td>\n",
       "      <td>0.003881</td>\n",
       "      <td>1</td>\n",
       "    </tr>\n",
       "  </tbody>\n",
       "</table>\n",
       "<p>91539 rows × 3 columns</p>\n",
       "</div>"
      ],
      "text/plain": [
       "       diff_date  monetary r_score\n",
       "0       0.157967  0.008285       4\n",
       "1       0.162088  0.001102       4\n",
       "2       0.743132  0.004799       1\n",
       "3       0.446429  0.002131       2\n",
       "4       0.401099  0.011729       2\n",
       "...          ...       ...     ...\n",
       "91534   0.619505  0.258328       1\n",
       "91535   0.365385  0.004696       3\n",
       "91536   0.785714  0.006442       1\n",
       "91537   0.168956  0.007771       4\n",
       "91538   0.670330  0.003881       1\n",
       "\n",
       "[91539 rows x 3 columns]"
      ]
     },
     "execution_count": 39,
     "metadata": {},
     "output_type": "execute_result"
    }
   ],
   "source": [
    "r_bins = pd.qcut(scaler['diff_date'], 5, labels = [5,4,3,2,1])\n",
    "scaler['r_score'] = r_bins\n",
    "scaler"
   ]
  },
  {
   "cell_type": "markdown",
   "id": "a4c37cc1",
   "metadata": {},
   "source": [
    "- 정규화 m_score 값 계산"
   ]
  },
  {
   "cell_type": "code",
   "execution_count": 40,
   "id": "40f9c510",
   "metadata": {},
   "outputs": [
    {
     "data": {
      "text/html": [
       "<div>\n",
       "<style scoped>\n",
       "    .dataframe tbody tr th:only-of-type {\n",
       "        vertical-align: middle;\n",
       "    }\n",
       "\n",
       "    .dataframe tbody tr th {\n",
       "        vertical-align: top;\n",
       "    }\n",
       "\n",
       "    .dataframe thead th {\n",
       "        text-align: right;\n",
       "    }\n",
       "</style>\n",
       "<table border=\"1\" class=\"dataframe\">\n",
       "  <thead>\n",
       "    <tr style=\"text-align: right;\">\n",
       "      <th></th>\n",
       "      <th>diff_date</th>\n",
       "      <th>monetary</th>\n",
       "      <th>r_score</th>\n",
       "      <th>m_score</th>\n",
       "    </tr>\n",
       "  </thead>\n",
       "  <tbody>\n",
       "    <tr>\n",
       "      <th>0</th>\n",
       "      <td>0.157967</td>\n",
       "      <td>0.008285</td>\n",
       "      <td>4</td>\n",
       "      <td>4</td>\n",
       "    </tr>\n",
       "    <tr>\n",
       "      <th>1</th>\n",
       "      <td>0.162088</td>\n",
       "      <td>0.001102</td>\n",
       "      <td>4</td>\n",
       "      <td>1</td>\n",
       "    </tr>\n",
       "    <tr>\n",
       "      <th>2</th>\n",
       "      <td>0.743132</td>\n",
       "      <td>0.004799</td>\n",
       "      <td>1</td>\n",
       "      <td>2</td>\n",
       "    </tr>\n",
       "    <tr>\n",
       "      <th>3</th>\n",
       "      <td>0.446429</td>\n",
       "      <td>0.002131</td>\n",
       "      <td>2</td>\n",
       "      <td>1</td>\n",
       "    </tr>\n",
       "    <tr>\n",
       "      <th>4</th>\n",
       "      <td>0.401099</td>\n",
       "      <td>0.011729</td>\n",
       "      <td>2</td>\n",
       "      <td>4</td>\n",
       "    </tr>\n",
       "    <tr>\n",
       "      <th>...</th>\n",
       "      <td>...</td>\n",
       "      <td>...</td>\n",
       "      <td>...</td>\n",
       "      <td>...</td>\n",
       "    </tr>\n",
       "    <tr>\n",
       "      <th>91534</th>\n",
       "      <td>0.619505</td>\n",
       "      <td>0.258328</td>\n",
       "      <td>1</td>\n",
       "      <td>5</td>\n",
       "    </tr>\n",
       "    <tr>\n",
       "      <th>91535</th>\n",
       "      <td>0.365385</td>\n",
       "      <td>0.004696</td>\n",
       "      <td>3</td>\n",
       "      <td>2</td>\n",
       "    </tr>\n",
       "    <tr>\n",
       "      <th>91536</th>\n",
       "      <td>0.785714</td>\n",
       "      <td>0.006442</td>\n",
       "      <td>1</td>\n",
       "      <td>3</td>\n",
       "    </tr>\n",
       "    <tr>\n",
       "      <th>91537</th>\n",
       "      <td>0.168956</td>\n",
       "      <td>0.007771</td>\n",
       "      <td>4</td>\n",
       "      <td>3</td>\n",
       "    </tr>\n",
       "    <tr>\n",
       "      <th>91538</th>\n",
       "      <td>0.670330</td>\n",
       "      <td>0.003881</td>\n",
       "      <td>1</td>\n",
       "      <td>2</td>\n",
       "    </tr>\n",
       "  </tbody>\n",
       "</table>\n",
       "<p>91539 rows × 4 columns</p>\n",
       "</div>"
      ],
      "text/plain": [
       "       diff_date  monetary r_score m_score\n",
       "0       0.157967  0.008285       4       4\n",
       "1       0.162088  0.001102       4       1\n",
       "2       0.743132  0.004799       1       2\n",
       "3       0.446429  0.002131       2       1\n",
       "4       0.401099  0.011729       2       4\n",
       "...          ...       ...     ...     ...\n",
       "91534   0.619505  0.258328       1       5\n",
       "91535   0.365385  0.004696       3       2\n",
       "91536   0.785714  0.006442       1       3\n",
       "91537   0.168956  0.007771       4       3\n",
       "91538   0.670330  0.003881       1       2\n",
       "\n",
       "[91539 rows x 4 columns]"
      ]
     },
     "execution_count": 40,
     "metadata": {},
     "output_type": "execute_result"
    }
   ],
   "source": [
    "m_bins = pd.qcut(scaler['monetary'], 5, labels = [1, 2, 3, 4, 5])\n",
    "scaler['m_score'] = m_bins\n",
    "scaler"
   ]
  },
  {
   "cell_type": "markdown",
   "id": "a90781a9",
   "metadata": {},
   "source": [
    "- f_scoer 연결 및 값 제거 "
   ]
  },
  {
   "cell_type": "code",
   "execution_count": 41,
   "id": "6305ff77",
   "metadata": {},
   "outputs": [],
   "source": [
    "scaler[\"f_score\"]=rfm_score[\"f_score\"]"
   ]
  },
  {
   "cell_type": "code",
   "execution_count": 42,
   "id": "ed8efa54",
   "metadata": {},
   "outputs": [
    {
     "data": {
      "text/html": [
       "<div>\n",
       "<style scoped>\n",
       "    .dataframe tbody tr th:only-of-type {\n",
       "        vertical-align: middle;\n",
       "    }\n",
       "\n",
       "    .dataframe tbody tr th {\n",
       "        vertical-align: top;\n",
       "    }\n",
       "\n",
       "    .dataframe thead th {\n",
       "        text-align: right;\n",
       "    }\n",
       "</style>\n",
       "<table border=\"1\" class=\"dataframe\">\n",
       "  <thead>\n",
       "    <tr style=\"text-align: right;\">\n",
       "      <th></th>\n",
       "      <th>r_score</th>\n",
       "      <th>m_score</th>\n",
       "      <th>f_score</th>\n",
       "    </tr>\n",
       "  </thead>\n",
       "  <tbody>\n",
       "    <tr>\n",
       "      <th>0</th>\n",
       "      <td>4</td>\n",
       "      <td>4</td>\n",
       "      <td>1</td>\n",
       "    </tr>\n",
       "    <tr>\n",
       "      <th>1</th>\n",
       "      <td>4</td>\n",
       "      <td>1</td>\n",
       "      <td>1</td>\n",
       "    </tr>\n",
       "    <tr>\n",
       "      <th>2</th>\n",
       "      <td>1</td>\n",
       "      <td>2</td>\n",
       "      <td>1</td>\n",
       "    </tr>\n",
       "    <tr>\n",
       "      <th>3</th>\n",
       "      <td>2</td>\n",
       "      <td>1</td>\n",
       "      <td>1</td>\n",
       "    </tr>\n",
       "    <tr>\n",
       "      <th>4</th>\n",
       "      <td>2</td>\n",
       "      <td>4</td>\n",
       "      <td>1</td>\n",
       "    </tr>\n",
       "    <tr>\n",
       "      <th>...</th>\n",
       "      <td>...</td>\n",
       "      <td>...</td>\n",
       "      <td>...</td>\n",
       "    </tr>\n",
       "    <tr>\n",
       "      <th>91534</th>\n",
       "      <td>1</td>\n",
       "      <td>5</td>\n",
       "      <td>1</td>\n",
       "    </tr>\n",
       "    <tr>\n",
       "      <th>91535</th>\n",
       "      <td>3</td>\n",
       "      <td>2</td>\n",
       "      <td>1</td>\n",
       "    </tr>\n",
       "    <tr>\n",
       "      <th>91536</th>\n",
       "      <td>1</td>\n",
       "      <td>3</td>\n",
       "      <td>1</td>\n",
       "    </tr>\n",
       "    <tr>\n",
       "      <th>91537</th>\n",
       "      <td>4</td>\n",
       "      <td>3</td>\n",
       "      <td>1</td>\n",
       "    </tr>\n",
       "    <tr>\n",
       "      <th>91538</th>\n",
       "      <td>1</td>\n",
       "      <td>2</td>\n",
       "      <td>1</td>\n",
       "    </tr>\n",
       "  </tbody>\n",
       "</table>\n",
       "<p>91539 rows × 3 columns</p>\n",
       "</div>"
      ],
      "text/plain": [
       "      r_score m_score  f_score\n",
       "0           4       4        1\n",
       "1           4       1        1\n",
       "2           1       2        1\n",
       "3           2       1        1\n",
       "4           2       4        1\n",
       "...       ...     ...      ...\n",
       "91534       1       5        1\n",
       "91535       3       2        1\n",
       "91536       1       3        1\n",
       "91537       4       3        1\n",
       "91538       1       2        1\n",
       "\n",
       "[91539 rows x 3 columns]"
      ]
     },
     "execution_count": 42,
     "metadata": {},
     "output_type": "execute_result"
    }
   ],
   "source": [
    "scaler.drop(['diff_date','monetary'],axis=1)"
   ]
  },
  {
   "cell_type": "code",
   "execution_count": null,
   "id": "19400b72",
   "metadata": {},
   "outputs": [],
   "source": [
    "scaler.describe()"
   ]
  },
  {
   "cell_type": "code",
   "execution_count": 43,
   "id": "f454b897",
   "metadata": {},
   "outputs": [],
   "source": [
    "#scaler['degree']=kmeans.labels_\n",
    "#scaler"
   ]
  },
  {
   "cell_type": "markdown",
   "id": "2b015dcb",
   "metadata": {},
   "source": [
    "- 타당성 조사 "
   ]
  },
  {
   "cell_type": "markdown",
   "id": "cf908fc6",
   "metadata": {},
   "source": [
    "1. Elbow method(엘보우 기법)\n",
    "\n",
    "군집 내 오차제곱합(SSE, sum of squared error)의 합을 군집화의 비용함수로 정의.\n",
    "군집 수가 늘어날수록 비용함수는 감소함.\n",
    "이때, 비용함수 감소 기울기가 급격히 줄어드는 부분(더이상 군집을 늘려도 크게 비용이 감소하지 않는 부분)을 최적의 군집수로 판단한다.\n",
    "KElbowVisualizer 라이브러리를 활용하여 손쉽게 계산 및 시각화를 할 수 있다.\n"
   ]
  },
  {
   "cell_type": "code",
   "execution_count": 44,
   "id": "6639b176",
   "metadata": {},
   "outputs": [],
   "source": [
    "from sklearn.cluster import KMeans"
   ]
  },
  {
   "cell_type": "code",
   "execution_count": 45,
   "id": "02f59e3b",
   "metadata": {},
   "outputs": [
    {
     "data": {
      "text/plain": [
       "<AxesSubplot:>"
      ]
     },
     "execution_count": 45,
     "metadata": {},
     "output_type": "execute_result"
    },
    {
     "data": {
      "image/png": "[encoded data removed]",
      "text/plain": [
       "<Figure size 576x396 with 1 Axes>"
      ]
     },
     "metadata": {},
     "output_type": "display_data"
    }
   ],
   "source": [
    "from yellowbrick.cluster import KElbowVisualizer\n",
    "\n",
    "inertias = []\n",
    "\n",
    "for k in range(2,16): \n",
    "    model = KMeans(n_clusters=k, random_state=7)\n",
    "    model.fit(scaler)\n",
    "    inertias.append(model.inertia_)\n",
    "\n",
    "sns.lineplot(x=range(2, 16), y=inertias, marker='o')\n"
   ]
  },
  {
   "cell_type": "markdown",
   "id": "3992da84",
   "metadata": {},
   "source": [
    "- 실루엣계수 "
   ]
  },
  {
   "cell_type": "code",
   "execution_count": 46,
   "id": "5d82ea93",
   "metadata": {},
   "outputs": [
    {
     "name": "stdout",
     "output_type": "stream",
     "text": [
      "cluster : 2 // silhouette index 0.36048576366994556\n",
      "cluster : 3 // silhouette index 0.3985643516263027\n",
      "cluster : 4 // silhouette index 0.42974276236434533\n",
      "cluster : 5 // silhouette index 0.423024544315213\n"
     ]
    }
   ],
   "source": [
    "from sklearn.metrics import silhouette_score, silhouette_samples\n",
    "\n",
    "for k in range(2, 6):\n",
    "    kmeans = KMeans(n_clusters=k, random_state=7).fit(scaler)\n",
    "    silhouette_avg = silhouette_score(scaler, kmeans.labels_)\n",
    "    print(f'cluster : {k} // silhouette index {silhouette_avg}')\n"
   ]
  },
  {
   "cell_type": "code",
   "execution_count": 47,
   "id": "044e76f8",
   "metadata": {},
   "outputs": [
    {
     "data": {
      "image/png": "[encoded data removed]",
      "text/plain": [
       "<Figure size 576x396 with 1 Axes>"
      ]
     },
     "metadata": {},
     "output_type": "display_data"
    },
    {
     "data": {
      "image/png": "[encoded data removed]",
      "text/plain": [
       "<Figure size 576x396 with 1 Axes>"
      ]
     },
     "metadata": {},
     "output_type": "display_data"
    },
    {
     "data": {
      "image/png": "[encoded data removed]",
      "text/plain": [
       "<Figure size 576x396 with 1 Axes>"
      ]
     },
     "metadata": {},
     "output_type": "display_data"
    },
    {
     "data": {
      "image/png": "[encoded data removed]",
      "text/plain": [
       "<Figure size 576x396 with 1 Axes>"
      ]
     },
     "metadata": {},
     "output_type": "display_data"
    }
   ],
   "source": [
    "for k in range(2, 6):\n",
    "    fig, ax = plt.subplots(1, 1)\n",
    "    kmeans = KMeans(n_clusters=k, random_state=7).fit(scaler)\n",
    "    silhouette_vals = silhouette_samples(scaler, kmeans.labels_)\n",
    "    y_ticks = []\n",
    "    y_lower = y_upper = 0\n",
    "    for c_num in np.unique(kmeans.labels_):\n",
    "        cluster_silhouette_vals = silhouette_vals[kmeans.labels_==c_num]\n",
    "        y_upper += len(cluster_silhouette_vals)\n",
    "        cluster_silhouette_vals.sort() # numpy array는 sort 메소드를 이용하면 오름차순으로 정렬된 형태로 바뀜\n",
    "        \n",
    "        ax.barh(range(y_lower, y_upper), cluster_silhouette_vals, height=1)\n",
    "        y_lower += len(cluster_silhouette_vals)\n"
   ]
  },
  {
   "cell_type": "markdown",
   "id": "57e17d09",
   "metadata": {},
   "source": [
    "- k_means cluster()"
   ]
  },
  {
   "cell_type": "code",
   "execution_count": 48,
   "id": "3302efde",
   "metadata": {},
   "outputs": [
    {
     "data": {
      "text/plain": [
       "KMeans(n_clusters=4, random_state=7)"
      ]
     },
     "execution_count": 48,
     "metadata": {},
     "output_type": "execute_result"
    }
   ],
   "source": [
    "from sklearn.cluster import KMeans\n",
    "\n",
    "kmeans = KMeans(n_clusters=4,random_state=7)\n",
    "\n",
    "kmeans.fit(scaler)"
   ]
  },
  {
   "cell_type": "markdown",
   "id": "7e6df4fa",
   "metadata": {},
   "source": [
    "- 결과 레이블 확인"
   ]
  },
  {
   "cell_type": "code",
   "execution_count": 49,
   "id": "7dddee2f",
   "metadata": {},
   "outputs": [
    {
     "name": "stdout",
     "output_type": "stream",
     "text": [
      "[3 0 1 ... 1 3 1]\n"
     ]
    }
   ],
   "source": [
    "print(kmeans.labels_)"
   ]
  },
  {
   "cell_type": "markdown",
   "id": "9967b4ae",
   "metadata": {},
   "source": [
    "- 군집 중심값 확인"
   ]
  },
  {
   "cell_type": "code",
   "execution_count": 51,
   "id": "9c4180d8",
   "metadata": {},
   "outputs": [
    {
     "data": {
      "text/html": [
       "<div>\n",
       "<style scoped>\n",
       "    .dataframe tbody tr th:only-of-type {\n",
       "        vertical-align: middle;\n",
       "    }\n",
       "\n",
       "    .dataframe tbody tr th {\n",
       "        vertical-align: top;\n",
       "    }\n",
       "\n",
       "    .dataframe thead th {\n",
       "        text-align: right;\n",
       "    }\n",
       "</style>\n",
       "<table border=\"1\" class=\"dataframe\">\n",
       "  <thead>\n",
       "    <tr style=\"text-align: right;\">\n",
       "      <th></th>\n",
       "      <th>diff_date</th>\n",
       "      <th>monetary</th>\n",
       "      <th>r_score</th>\n",
       "      <th>m_score</th>\n",
       "      <th>f_score</th>\n",
       "      <th>customer_unique_id</th>\n",
       "    </tr>\n",
       "  </thead>\n",
       "  <tbody>\n",
       "    <tr>\n",
       "      <th>0</th>\n",
       "      <td>0.157967</td>\n",
       "      <td>0.008285</td>\n",
       "      <td>4</td>\n",
       "      <td>4</td>\n",
       "      <td>1</td>\n",
       "      <td>0000366f3b9a7992bf8c76cfdf3221e2</td>\n",
       "    </tr>\n",
       "    <tr>\n",
       "      <th>1</th>\n",
       "      <td>0.162088</td>\n",
       "      <td>0.001102</td>\n",
       "      <td>4</td>\n",
       "      <td>1</td>\n",
       "      <td>1</td>\n",
       "      <td>0000b849f77a49e4a4ce2b2a4ca5be3f</td>\n",
       "    </tr>\n",
       "    <tr>\n",
       "      <th>2</th>\n",
       "      <td>0.743132</td>\n",
       "      <td>0.004799</td>\n",
       "      <td>1</td>\n",
       "      <td>2</td>\n",
       "      <td>1</td>\n",
       "      <td>0000f46a3911fa3c0805444483337064</td>\n",
       "    </tr>\n",
       "    <tr>\n",
       "      <th>3</th>\n",
       "      <td>0.446429</td>\n",
       "      <td>0.002131</td>\n",
       "      <td>2</td>\n",
       "      <td>1</td>\n",
       "      <td>1</td>\n",
       "      <td>0000f6ccb0745a6a4b88665a16c9f078</td>\n",
       "    </tr>\n",
       "    <tr>\n",
       "      <th>4</th>\n",
       "      <td>0.401099</td>\n",
       "      <td>0.011729</td>\n",
       "      <td>2</td>\n",
       "      <td>4</td>\n",
       "      <td>1</td>\n",
       "      <td>0004aac84e0df4da2b147fca70cf8255</td>\n",
       "    </tr>\n",
       "    <tr>\n",
       "      <th>...</th>\n",
       "      <td>...</td>\n",
       "      <td>...</td>\n",
       "      <td>...</td>\n",
       "      <td>...</td>\n",
       "      <td>...</td>\n",
       "      <td>...</td>\n",
       "    </tr>\n",
       "    <tr>\n",
       "      <th>91534</th>\n",
       "      <td>0.619505</td>\n",
       "      <td>0.258328</td>\n",
       "      <td>1</td>\n",
       "      <td>5</td>\n",
       "      <td>1</td>\n",
       "      <td>fffcf5a5ff07b0908bd4e2dbc735a684</td>\n",
       "    </tr>\n",
       "    <tr>\n",
       "      <th>91535</th>\n",
       "      <td>0.365385</td>\n",
       "      <td>0.004696</td>\n",
       "      <td>3</td>\n",
       "      <td>2</td>\n",
       "      <td>1</td>\n",
       "      <td>fffea47cd6d3cc0a88bd621562a9d061</td>\n",
       "    </tr>\n",
       "    <tr>\n",
       "      <th>91536</th>\n",
       "      <td>0.785714</td>\n",
       "      <td>0.006442</td>\n",
       "      <td>1</td>\n",
       "      <td>3</td>\n",
       "      <td>1</td>\n",
       "      <td>ffff371b4d645b6ecea244b27531430a</td>\n",
       "    </tr>\n",
       "    <tr>\n",
       "      <th>91537</th>\n",
       "      <td>0.168956</td>\n",
       "      <td>0.007771</td>\n",
       "      <td>4</td>\n",
       "      <td>3</td>\n",
       "      <td>1</td>\n",
       "      <td>ffff5962728ec6157033ef9805bacc48</td>\n",
       "    </tr>\n",
       "    <tr>\n",
       "      <th>91538</th>\n",
       "      <td>0.670330</td>\n",
       "      <td>0.003881</td>\n",
       "      <td>1</td>\n",
       "      <td>2</td>\n",
       "      <td>1</td>\n",
       "      <td>ffffd2657e2aad2907e67c3e9daecbeb</td>\n",
       "    </tr>\n",
       "  </tbody>\n",
       "</table>\n",
       "<p>91539 rows × 6 columns</p>\n",
       "</div>"
      ],
      "text/plain": [
       "       diff_date  monetary r_score m_score  f_score  \\\n",
       "0       0.157967  0.008285       4       4        1   \n",
       "1       0.162088  0.001102       4       1        1   \n",
       "2       0.743132  0.004799       1       2        1   \n",
       "3       0.446429  0.002131       2       1        1   \n",
       "4       0.401099  0.011729       2       4        1   \n",
       "...          ...       ...     ...     ...      ...   \n",
       "91534   0.619505  0.258328       1       5        1   \n",
       "91535   0.365385  0.004696       3       2        1   \n",
       "91536   0.785714  0.006442       1       3        1   \n",
       "91537   0.168956  0.007771       4       3        1   \n",
       "91538   0.670330  0.003881       1       2        1   \n",
       "\n",
       "                     customer_unique_id  \n",
       "0      0000366f3b9a7992bf8c76cfdf3221e2  \n",
       "1      0000b849f77a49e4a4ce2b2a4ca5be3f  \n",
       "2      0000f46a3911fa3c0805444483337064  \n",
       "3      0000f6ccb0745a6a4b88665a16c9f078  \n",
       "4      0004aac84e0df4da2b147fca70cf8255  \n",
       "...                                 ...  \n",
       "91534  fffcf5a5ff07b0908bd4e2dbc735a684  \n",
       "91535  fffea47cd6d3cc0a88bd621562a9d061  \n",
       "91536  ffff371b4d645b6ecea244b27531430a  \n",
       "91537  ffff5962728ec6157033ef9805bacc48  \n",
       "91538  ffffd2657e2aad2907e67c3e9daecbeb  \n",
       "\n",
       "[91539 rows x 6 columns]"
      ]
     },
     "execution_count": 51,
     "metadata": {},
     "output_type": "execute_result"
    }
   ],
   "source": [
    "scaler['customer_unique_id']=rfm_score['customer_unique_id']\n",
    "\n",
    "scaler"
   ]
  },
  {
   "cell_type": "code",
   "execution_count": 52,
   "id": "d807c648",
   "metadata": {},
   "outputs": [],
   "source": [
    "scaler[\"grade\"]=kmeans.labels_"
   ]
  },
  {
   "cell_type": "code",
   "execution_count": 53,
   "id": "075d855d",
   "metadata": {},
   "outputs": [
    {
     "data": {
      "text/html": [
       "<div>\n",
       "<style scoped>\n",
       "    .dataframe tbody tr th:only-of-type {\n",
       "        vertical-align: middle;\n",
       "    }\n",
       "\n",
       "    .dataframe tbody tr th {\n",
       "        vertical-align: top;\n",
       "    }\n",
       "\n",
       "    .dataframe thead th {\n",
       "        text-align: right;\n",
       "    }\n",
       "</style>\n",
       "<table border=\"1\" class=\"dataframe\">\n",
       "  <thead>\n",
       "    <tr style=\"text-align: right;\">\n",
       "      <th></th>\n",
       "      <th>customer_unique_id</th>\n",
       "      <th>diff_date</th>\n",
       "      <th>monetary</th>\n",
       "      <th>r_score</th>\n",
       "      <th>f_score</th>\n",
       "      <th>m_score</th>\n",
       "      <th>grade</th>\n",
       "    </tr>\n",
       "  </thead>\n",
       "  <tbody>\n",
       "    <tr>\n",
       "      <th>0</th>\n",
       "      <td>0000366f3b9a7992bf8c76cfdf3221e2</td>\n",
       "      <td>0.157967</td>\n",
       "      <td>0.008285</td>\n",
       "      <td>4</td>\n",
       "      <td>1</td>\n",
       "      <td>4</td>\n",
       "      <td>3</td>\n",
       "    </tr>\n",
       "    <tr>\n",
       "      <th>1</th>\n",
       "      <td>0000b849f77a49e4a4ce2b2a4ca5be3f</td>\n",
       "      <td>0.162088</td>\n",
       "      <td>0.001102</td>\n",
       "      <td>4</td>\n",
       "      <td>1</td>\n",
       "      <td>1</td>\n",
       "      <td>0</td>\n",
       "    </tr>\n",
       "    <tr>\n",
       "      <th>2</th>\n",
       "      <td>0000f46a3911fa3c0805444483337064</td>\n",
       "      <td>0.743132</td>\n",
       "      <td>0.004799</td>\n",
       "      <td>1</td>\n",
       "      <td>1</td>\n",
       "      <td>2</td>\n",
       "      <td>1</td>\n",
       "    </tr>\n",
       "    <tr>\n",
       "      <th>3</th>\n",
       "      <td>0000f6ccb0745a6a4b88665a16c9f078</td>\n",
       "      <td>0.446429</td>\n",
       "      <td>0.002131</td>\n",
       "      <td>2</td>\n",
       "      <td>1</td>\n",
       "      <td>1</td>\n",
       "      <td>1</td>\n",
       "    </tr>\n",
       "    <tr>\n",
       "      <th>4</th>\n",
       "      <td>0004aac84e0df4da2b147fca70cf8255</td>\n",
       "      <td>0.401099</td>\n",
       "      <td>0.011729</td>\n",
       "      <td>2</td>\n",
       "      <td>1</td>\n",
       "      <td>4</td>\n",
       "      <td>2</td>\n",
       "    </tr>\n",
       "    <tr>\n",
       "      <th>...</th>\n",
       "      <td>...</td>\n",
       "      <td>...</td>\n",
       "      <td>...</td>\n",
       "      <td>...</td>\n",
       "      <td>...</td>\n",
       "      <td>...</td>\n",
       "      <td>...</td>\n",
       "    </tr>\n",
       "    <tr>\n",
       "      <th>91534</th>\n",
       "      <td>fffcf5a5ff07b0908bd4e2dbc735a684</td>\n",
       "      <td>0.619505</td>\n",
       "      <td>0.258328</td>\n",
       "      <td>1</td>\n",
       "      <td>1</td>\n",
       "      <td>5</td>\n",
       "      <td>2</td>\n",
       "    </tr>\n",
       "    <tr>\n",
       "      <th>91535</th>\n",
       "      <td>fffea47cd6d3cc0a88bd621562a9d061</td>\n",
       "      <td>0.365385</td>\n",
       "      <td>0.004696</td>\n",
       "      <td>3</td>\n",
       "      <td>1</td>\n",
       "      <td>2</td>\n",
       "      <td>0</td>\n",
       "    </tr>\n",
       "    <tr>\n",
       "      <th>91536</th>\n",
       "      <td>ffff371b4d645b6ecea244b27531430a</td>\n",
       "      <td>0.785714</td>\n",
       "      <td>0.006442</td>\n",
       "      <td>1</td>\n",
       "      <td>1</td>\n",
       "      <td>3</td>\n",
       "      <td>1</td>\n",
       "    </tr>\n",
       "    <tr>\n",
       "      <th>91537</th>\n",
       "      <td>ffff5962728ec6157033ef9805bacc48</td>\n",
       "      <td>0.168956</td>\n",
       "      <td>0.007771</td>\n",
       "      <td>4</td>\n",
       "      <td>1</td>\n",
       "      <td>3</td>\n",
       "      <td>3</td>\n",
       "    </tr>\n",
       "    <tr>\n",
       "      <th>91538</th>\n",
       "      <td>ffffd2657e2aad2907e67c3e9daecbeb</td>\n",
       "      <td>0.670330</td>\n",
       "      <td>0.003881</td>\n",
       "      <td>1</td>\n",
       "      <td>1</td>\n",
       "      <td>2</td>\n",
       "      <td>1</td>\n",
       "    </tr>\n",
       "  </tbody>\n",
       "</table>\n",
       "<p>91539 rows × 7 columns</p>\n",
       "</div>"
      ],
      "text/plain": [
       "                     customer_unique_id  diff_date  monetary r_score  f_score  \\\n",
       "0      0000366f3b9a7992bf8c76cfdf3221e2   0.157967  0.008285       4        1   \n",
       "1      0000b849f77a49e4a4ce2b2a4ca5be3f   0.162088  0.001102       4        1   \n",
       "2      0000f46a3911fa3c0805444483337064   0.743132  0.004799       1        1   \n",
       "3      0000f6ccb0745a6a4b88665a16c9f078   0.446429  0.002131       2        1   \n",
       "4      0004aac84e0df4da2b147fca70cf8255   0.401099  0.011729       2        1   \n",
       "...                                 ...        ...       ...     ...      ...   \n",
       "91534  fffcf5a5ff07b0908bd4e2dbc735a684   0.619505  0.258328       1        1   \n",
       "91535  fffea47cd6d3cc0a88bd621562a9d061   0.365385  0.004696       3        1   \n",
       "91536  ffff371b4d645b6ecea244b27531430a   0.785714  0.006442       1        1   \n",
       "91537  ffff5962728ec6157033ef9805bacc48   0.168956  0.007771       4        1   \n",
       "91538  ffffd2657e2aad2907e67c3e9daecbeb   0.670330  0.003881       1        1   \n",
       "\n",
       "      m_score  grade  \n",
       "0           4      3  \n",
       "1           1      0  \n",
       "2           2      1  \n",
       "3           1      1  \n",
       "4           4      2  \n",
       "...       ...    ...  \n",
       "91534       5      2  \n",
       "91535       2      0  \n",
       "91536       3      1  \n",
       "91537       3      3  \n",
       "91538       2      1  \n",
       "\n",
       "[91539 rows x 7 columns]"
      ]
     },
     "execution_count": 53,
     "metadata": {},
     "output_type": "execute_result"
    }
   ],
   "source": [
    "customed_columns=['customer_unique_id','diff_date','monetary','r_score','f_score','m_score','grade']\n",
    "\n",
    "scaler=scaler[customed_columns]\n",
    "scaler"
   ]
  },
  {
   "cell_type": "code",
   "execution_count": 55,
   "id": "f300e422",
   "metadata": {},
   "outputs": [],
   "source": [
    "#scaler.to_csv('./data/scaler.csv', index=False)"
   ]
  },
  {
   "cell_type": "code",
   "execution_count": 57,
   "id": "d14e19a3",
   "metadata": {},
   "outputs": [],
   "source": [
    "import matplotlib.pyplot as plt\n",
    "from matplotlib import rc\n",
    "%matplotlib inline\n",
    "rc('font', family='Arial Unicode MS')"
   ]
  },
  {
   "cell_type": "code",
   "execution_count": 70,
   "id": "9fcb29d4",
   "metadata": {},
   "outputs": [],
   "source": [
    "def get_grade(score):\n",
    "    if score == 3:\n",
    "        return '다이이몬드'\n",
    "    elif score ==2:\n",
    "        return '골드'\n",
    "    elif score ==1:\n",
    "        return \"실버\"\n",
    "    else:\n",
    "        return \"브론즈\""
   ]
  },
  {
   "cell_type": "code",
   "execution_count": 71,
   "id": "1be6d29c",
   "metadata": {},
   "outputs": [
    {
     "data": {
      "text/html": [
       "<div>\n",
       "<style scoped>\n",
       "    .dataframe tbody tr th:only-of-type {\n",
       "        vertical-align: middle;\n",
       "    }\n",
       "\n",
       "    .dataframe tbody tr th {\n",
       "        vertical-align: top;\n",
       "    }\n",
       "\n",
       "    .dataframe thead th {\n",
       "        text-align: right;\n",
       "    }\n",
       "</style>\n",
       "<table border=\"1\" class=\"dataframe\">\n",
       "  <thead>\n",
       "    <tr style=\"text-align: right;\">\n",
       "      <th></th>\n",
       "      <th>customer_unique_id</th>\n",
       "      <th>diff_date</th>\n",
       "      <th>monetary</th>\n",
       "      <th>r_score</th>\n",
       "      <th>f_score</th>\n",
       "      <th>m_score</th>\n",
       "      <th>grade</th>\n",
       "    </tr>\n",
       "  </thead>\n",
       "  <tbody>\n",
       "    <tr>\n",
       "      <th>0</th>\n",
       "      <td>0000366f3b9a7992bf8c76cfdf3221e2</td>\n",
       "      <td>0.157967</td>\n",
       "      <td>0.008285</td>\n",
       "      <td>4</td>\n",
       "      <td>1</td>\n",
       "      <td>4</td>\n",
       "      <td>다이이몬드</td>\n",
       "    </tr>\n",
       "    <tr>\n",
       "      <th>1</th>\n",
       "      <td>0000b849f77a49e4a4ce2b2a4ca5be3f</td>\n",
       "      <td>0.162088</td>\n",
       "      <td>0.001102</td>\n",
       "      <td>4</td>\n",
       "      <td>1</td>\n",
       "      <td>1</td>\n",
       "      <td>브론즈</td>\n",
       "    </tr>\n",
       "    <tr>\n",
       "      <th>2</th>\n",
       "      <td>0000f46a3911fa3c0805444483337064</td>\n",
       "      <td>0.743132</td>\n",
       "      <td>0.004799</td>\n",
       "      <td>1</td>\n",
       "      <td>1</td>\n",
       "      <td>2</td>\n",
       "      <td>실버</td>\n",
       "    </tr>\n",
       "    <tr>\n",
       "      <th>3</th>\n",
       "      <td>0000f6ccb0745a6a4b88665a16c9f078</td>\n",
       "      <td>0.446429</td>\n",
       "      <td>0.002131</td>\n",
       "      <td>2</td>\n",
       "      <td>1</td>\n",
       "      <td>1</td>\n",
       "      <td>실버</td>\n",
       "    </tr>\n",
       "    <tr>\n",
       "      <th>4</th>\n",
       "      <td>0004aac84e0df4da2b147fca70cf8255</td>\n",
       "      <td>0.401099</td>\n",
       "      <td>0.011729</td>\n",
       "      <td>2</td>\n",
       "      <td>1</td>\n",
       "      <td>4</td>\n",
       "      <td>골드</td>\n",
       "    </tr>\n",
       "    <tr>\n",
       "      <th>...</th>\n",
       "      <td>...</td>\n",
       "      <td>...</td>\n",
       "      <td>...</td>\n",
       "      <td>...</td>\n",
       "      <td>...</td>\n",
       "      <td>...</td>\n",
       "      <td>...</td>\n",
       "    </tr>\n",
       "    <tr>\n",
       "      <th>91534</th>\n",
       "      <td>fffcf5a5ff07b0908bd4e2dbc735a684</td>\n",
       "      <td>0.619505</td>\n",
       "      <td>0.258328</td>\n",
       "      <td>1</td>\n",
       "      <td>1</td>\n",
       "      <td>5</td>\n",
       "      <td>골드</td>\n",
       "    </tr>\n",
       "    <tr>\n",
       "      <th>91535</th>\n",
       "      <td>fffea47cd6d3cc0a88bd621562a9d061</td>\n",
       "      <td>0.365385</td>\n",
       "      <td>0.004696</td>\n",
       "      <td>3</td>\n",
       "      <td>1</td>\n",
       "      <td>2</td>\n",
       "      <td>브론즈</td>\n",
       "    </tr>\n",
       "    <tr>\n",
       "      <th>91536</th>\n",
       "      <td>ffff371b4d645b6ecea244b27531430a</td>\n",
       "      <td>0.785714</td>\n",
       "      <td>0.006442</td>\n",
       "      <td>1</td>\n",
       "      <td>1</td>\n",
       "      <td>3</td>\n",
       "      <td>실버</td>\n",
       "    </tr>\n",
       "    <tr>\n",
       "      <th>91537</th>\n",
       "      <td>ffff5962728ec6157033ef9805bacc48</td>\n",
       "      <td>0.168956</td>\n",
       "      <td>0.007771</td>\n",
       "      <td>4</td>\n",
       "      <td>1</td>\n",
       "      <td>3</td>\n",
       "      <td>다이이몬드</td>\n",
       "    </tr>\n",
       "    <tr>\n",
       "      <th>91538</th>\n",
       "      <td>ffffd2657e2aad2907e67c3e9daecbeb</td>\n",
       "      <td>0.670330</td>\n",
       "      <td>0.003881</td>\n",
       "      <td>1</td>\n",
       "      <td>1</td>\n",
       "      <td>2</td>\n",
       "      <td>실버</td>\n",
       "    </tr>\n",
       "  </tbody>\n",
       "</table>\n",
       "<p>91539 rows × 7 columns</p>\n",
       "</div>"
      ],
      "text/plain": [
       "                     customer_unique_id  diff_date  monetary r_score  f_score  \\\n",
       "0      0000366f3b9a7992bf8c76cfdf3221e2   0.157967  0.008285       4        1   \n",
       "1      0000b849f77a49e4a4ce2b2a4ca5be3f   0.162088  0.001102       4        1   \n",
       "2      0000f46a3911fa3c0805444483337064   0.743132  0.004799       1        1   \n",
       "3      0000f6ccb0745a6a4b88665a16c9f078   0.446429  0.002131       2        1   \n",
       "4      0004aac84e0df4da2b147fca70cf8255   0.401099  0.011729       2        1   \n",
       "...                                 ...        ...       ...     ...      ...   \n",
       "91534  fffcf5a5ff07b0908bd4e2dbc735a684   0.619505  0.258328       1        1   \n",
       "91535  fffea47cd6d3cc0a88bd621562a9d061   0.365385  0.004696       3        1   \n",
       "91536  ffff371b4d645b6ecea244b27531430a   0.785714  0.006442       1        1   \n",
       "91537  ffff5962728ec6157033ef9805bacc48   0.168956  0.007771       4        1   \n",
       "91538  ffffd2657e2aad2907e67c3e9daecbeb   0.670330  0.003881       1        1   \n",
       "\n",
       "      m_score  grade  \n",
       "0           4  다이이몬드  \n",
       "1           1    브론즈  \n",
       "2           2     실버  \n",
       "3           1     실버  \n",
       "4           4     골드  \n",
       "...       ...    ...  \n",
       "91534       5     골드  \n",
       "91535       2    브론즈  \n",
       "91536       3     실버  \n",
       "91537       3  다이이몬드  \n",
       "91538       2     실버  \n",
       "\n",
       "[91539 rows x 7 columns]"
      ]
     },
     "execution_count": 71,
     "metadata": {},
     "output_type": "execute_result"
    }
   ],
   "source": [
    "scaler[\"grade\"]=scaler[\"grade\"].apply(get_grade)\n",
    "scaler"
   ]
  },
  {
   "cell_type": "code",
   "execution_count": 72,
   "id": "fc61cf5c",
   "metadata": {},
   "outputs": [
    {
     "data": {
      "text/plain": [
       "Text(0, 0.5, 'count')"
      ]
     },
     "execution_count": 72,
     "metadata": {},
     "output_type": "execute_result"
    },
    {
     "data": {
      "image/png": "[encoded data removed]",
      "text/plain": [
       "<Figure size 432x288 with 1 Axes>"
      ]
     },
     "metadata": {
      "needs_background": "light"
     },
     "output_type": "display_data"
    }
   ],
   "source": [
    "scaler[\"grade\"].value_counts().plot(kind='bar')\n",
    "plt.title('고객 등급 별 고객수')\n",
    "plt.ylabel(\"count\")"
   ]
  },
  {
   "cell_type": "code",
   "execution_count": 74,
   "id": "94aeac3e",
   "metadata": {},
   "outputs": [
    {
     "data": {
      "text/plain": [
       "골드       0.314751\n",
       "다이이몬드    0.246518\n",
       "브론즈      0.235768\n",
       "실버       0.202963\n",
       "Name: grade, dtype: float64"
      ]
     },
     "execution_count": 74,
     "metadata": {},
     "output_type": "execute_result"
    }
   ],
   "source": [
    "scaler[\"grade\"].value_counts(normalize = True)"
   ]
  },
  {
   "cell_type": "code",
   "execution_count": null,
   "id": "6cc17228",
   "metadata": {},
   "outputs": [],
   "source": []
  }
 ],
 "metadata": {
  "kernelspec": {
   "display_name": "Python 3 (ipykernel)",
   "language": "python",
   "name": "python3"
  },
  "language_info": {
   "codemirror_mode": {
    "name": "ipython",
    "version": 3
   },
   "file_extension": ".py",
   "mimetype": "text/x-python",
   "name": "python",
   "nbconvert_exporter": "python",
   "pygments_lexer": "ipython3",
   "version": "3.9.12"
  }
 },
 "nbformat": 4,
 "nbformat_minor": 5
}
